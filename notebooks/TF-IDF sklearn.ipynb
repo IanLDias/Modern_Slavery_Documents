{
 "cells": [
  {
   "cell_type": "code",
   "execution_count": 1,
   "metadata": {},
   "outputs": [],
   "source": [
    "from sklearn.feature_extraction.text import TfidfVectorizer\n",
    "from sklearn.metrics.pairwise import cosine_similarity\n",
    "from itertools import combinations_with_replacement"
   ]
  },
  {
   "cell_type": "code",
   "execution_count": 2,
   "metadata": {},
   "outputs": [],
   "source": [
    "from pathlib import Path as pathl\n",
    "import os, sys\n",
    "import numpy as np\n",
    "#append relevant file paths\n",
    "new_path = pathl('.')\n",
    "parent = new_path.resolve().parent\n",
    "sys.path.append(str(parent))"
   ]
  },
  {
   "cell_type": "code",
   "execution_count": 3,
   "metadata": {},
   "outputs": [],
   "source": [
    "from pdf_parser import pipeline"
   ]
  },
  {
   "cell_type": "code",
   "execution_count": 4,
   "metadata": {},
   "outputs": [],
   "source": [
    "import spacy\n",
    "import pickle\n",
    "nlp = spacy.load('en_core_web_sm')\n",
    "punctuation = '!\"#$%&\\'()*+,-./:;<=>?@[\\]^_`{|}~\\n'"
   ]
  },
  {
   "cell_type": "code",
   "execution_count": 5,
   "metadata": {},
   "outputs": [],
   "source": [
    "current_dir = os.walk(sys.path[-1] + '/Data/downloaded_files')\n",
    "files = []\n",
    "for file in current_dir:\n",
    "    files.append(file[-1])\n",
    "files = sum(files, [])"
   ]
  },
  {
   "cell_type": "code",
   "execution_count": 11,
   "metadata": {},
   "outputs": [],
   "source": [
    "data_path = parent / 'Data/downloaded_files'\n",
    "def get_text(filename, parser='pypdf'):\n",
    "    'Return text from a filename'\n",
    "    pdf_file = data_path / filename\n",
    "    if parser == 'pypdf':\n",
    "        text_dict = pipeline(filepath = str(pdf_file), parser=parser)\n",
    "        text = list(text_dict.values())\n",
    "        text = sum(text, [])\n",
    "        text = [sentence.strip() for sentence in text]\n",
    "        text = ' '.join(text)\n",
    "        return text\n",
    "    elif parser == 'textract':\n",
    "        text = pipeline(filepath = str(pdf_file), parser=parser)\n",
    "        return text\n",
    "    \n",
    "def lemmatizer(text):\n",
    "    'Lemmatizes text'\n",
    "    doc = nlp.pipe(text)\n",
    "    lemmatized = []\n",
    "    for sentence in doc:\n",
    "        sent = []\n",
    "        for word in sentence:\n",
    "            if str(word) in punctuation:\n",
    "                continue\n",
    "            lemma = word.lemma_.strip() \n",
    "            sent.append(lemma)\n",
    "        \n",
    "        lemmatized.append(' '.join(sent))\n",
    "    return lemmatized"
   ]
  },
  {
   "cell_type": "code",
   "execution_count": 12,
   "metadata": {},
   "outputs": [
    {
     "data": {
      "text/plain": [
       "[\"b'Modern Slavery Statement Introduction This statement sets out Lovehoney Group Ltd and all Group Companies actions to understand all potential modern slavery risks related to its business and to put in place steps that are aimed at ensuring that there is no slavery or human trafficking in its own business and its supply chains\",\n",
       " 'This statement relates to actions and activities during the financial year 1st April 2018 to 31st March 2019',\n",
       " 'As the UKs biggest online adult retailer, Lovehoney recognises that it has a responsibility to take a robust approach to slavery and human trafficking',\n",
       " 'The Organisation is absolutely committed to preventing slavery and human trafficking in its corporate activities, and to ensuring that its supply chains are free from slavery and human trafficking',\n",
       " 'Organisation Structure Lovehoney are the sexual happiness people, and we make a fun, fulfilling sex life available to everyone',\n",
       " 'Were the UKs biggest online adult retailer and 1 in 3 sex toys sold online in the UK comes from our warehouse in Bath',\n",
       " 'With a team of 320 (and growing) staff members, our HQ opens 7 days a week and provides 42 different countries with sexual happiness',\n",
       " 'We have 17 years experience in delivering high quality, great value products to your door in the fastest and most discreet way possible',\n",
       " '\\\\t\\\\t\\\\t\\\\t\\\\t The group had a turnover in excess of 93m for the 2017/18 financial year',\n",
       " '\\\\t\\\\t\\\\t\\\\t\\\\t Our business is organised into groups that deal with specific global regions - these sell a wide variety of third party items and our own Lovehoney branded products along with a number of licensed brands such as Fifty Shades of Grey',\n",
       " 'The head office is in Bath, with fulfillment centers and offices in Brisbane, Australia and Atlanta, GA, USA',\n",
       " 'Our Supply Chain\\\\t\\\\t\\\\t\\\\t\\\\t Lovehoney sources products through 4 key supplier regions:  UK  USA  Europe  China China is deemed the highest risk area and commands the greatest attention',\n",
       " 'Although the Global Slavery Index rating for China is relatively low, it is the source country for more than 95 of our own-brand products, and has therefore been included in our risk prioritisation and monitoring programme',\n",
       " 'Potential risks are linked to worker exploitation through long working hours, forced overtime and the retention of identity documents',\n",
       " 'Our Policies We are committed to ensuring that there is no modern slavery or human trafficking in our supply chains or in any part of our business',\n",
       " 'It is our commitment to act ethically and with integrity in all our business relationships and to implement and enforce effective systems and controls to ensure slavery and human trafficking is not taking place anywhere in our supply chains',\n",
       " 'We have a supplier code of conduct as part of the supplier verification process, ensuring Lovehoneys suppliers are aware of and adhere to the highest standards of ethics',\n",
       " 'The initial supplier audit will highlight issues and problems which will require a detailed CAP (Corrective Action Plan) that has an implementation time frame',\n",
       " '\\\\x0c Our Whistleblowing Policy encourages all individuals to report any concerns related to the direct activities, or the supply chains of the organisation',\n",
       " 'This includes any circumstances that may give rise to an enhanced risk of slavery or human trafficking',\n",
       " 'Our whistleblowing procedure is designed to make it easy for individuals to make disclosures without fear of retaliation',\n",
       " 'Due Diligence and Risk Assessments Our approach to managing the risk of modern slavery forms part of our broader efforts to respect human rights',\n",
       " 'Lovehoney has always considered itself a great company to work for and to work with',\n",
       " 'As part of this we undertake due diligence when considering taking on new suppliers - this is focused around documentation and audits:  We have a documented supply chain verification process (this covers all aspects of the products and manufacturing), which ensures potential suppliers are screened and verified prior to addition to the approved supplier list',\n",
       " 'We visit each manufacturing site that produces own-brand or licensed brand products for us',\n",
       " 'These will be subjected to a pre-visit questionnaire and an on-site audit to review the production facility, including sub-assembly and part production - for example plastic injection molding',\n",
       " 'These facilities will be visited twice a year',\n",
       " 'We will conduct a series of outgoing QC activities to ensure that both the product is as specified and to periodically review the manufacturing site',\n",
       " 'We will evaluate the modern slavery and human trafficking risks of each new supplier, as part of our general human rights and/or labour rights assessment',\n",
       " 'We conduct detailed supplier audits through Lovehoneys own employees or via a third party audit organisation, for example QIMA, which have a greater focus on ethical, health and safety and human trafficking issues',\n",
       " '\\\\t\\\\t  Where possible, we build long standing relationships with suppliers and make clear our expectations of business behaviour',\n",
       " 'With regards to third party suppliers, we expect these entities to have suitable anti-slavery and human trafficking policies and processes',\n",
       " 'We will ensure that each supplier is aware of our Anti-Slavery Policy',\n",
       " 'We expect each entity in the supply chain to, at least, adopt one-up due diligence on the next link in the chain',\n",
       " 'It is not practical for us (and every other participant in the chain) to have a direct relationship with all links, ultimately to the raw material (steel and plastic) suppliers',\n",
       " '\\\\t\\\\t  Supplier Adherence to our Values\\\\t\\\\t\\\\t We have zero tolerance to slavery and human trafficking',\n",
       " 'We expect all those in our supply chain and contractors to comply with our values',\n",
       " '\\\\t\\\\t\\\\t The Trade, Buying and Quality and Technical managers are responsible for compliance in their respective departments and for their supplier relationships',\n",
       " 'Training\\\\t\\\\t\\\\t To ensure a high level of understanding of the risks of modern slavery and human trafficking in our supply chains and our business, we provide training to relevant members of staff',\n",
       " 'All Directors have been briefed on the subject',\n",
       " 'We plan to enhance our training so we cover:  Our businesses purchasing practices, which influence supply chain conditions and which should therefore be designed to prevent purchases at unrealistically low prices, the use of labour engaged on unrealistically low wages or wages below a countrys national minimum wage, or the provision of products by an unrealistic deadline',\n",
       " 'How to assess the risk of slavery and human trafficking in relation to various aspects of the business, including resources and support available',\n",
       " 'How to identify the signs of slavery and human trafficking',\n",
       " 'What initial steps should be taken if slavery or human trafficking is suspected',\n",
       " 'Our Effectiveness in Combating Slavery and Human Trafficking\\\\t\\\\t\\\\t\\\\t We use the following key performance indicators (KPIs) to measure how effective we have been to ensure that slavery and human trafficking is not taking place in any part of our business or supply chains:  \\\\x0c Completion of audits are coordinated by the Quality and Technical Manager, and cover labour rights alongside health and safety, ethics, environment and quality processes',\n",
       " 'Where we identify areas that require improvement, we engage with the relevant third parties to develop correction plans and track their progress',\n",
       " 'If significant issues are identified and remain unresolved, we may choose to suspend or terminate work with a third party',\n",
       " 'We are actively working with a reputable third party and look to have SMETA (Sedex Members Ethical Trade Audits) in place, for all key suppliers, in China - during 2019',\n",
       " 'Written acknowledgement from our own brand suppliers that they have received and understood our policy on slavery and human trafficking',\n",
       " 'Written acknowledgement from our third party suppliers that they have received and understood our policy on slavery and human trafficking',\n",
       " 'Spot checking - unannounced audits by either Lovehoney employees or a third party, accredited, auditor',\n",
       " 'Approval\\\\t\\\\t\\\\t\\\\t The Company Directors and senior management shall take responsibility for implementing this policy statement and its objectives and shall provide adequate resources (training, etc) and investment to ensure that slavery and human trafficking is not taking place within the organisation and within its supply chains',\n",
       " 'This statement is made pursuant to section 54(1) of the Modern Slavery Act 2015 and constitutes our groups slavery and human trafficking statement for the current financial year',\n",
       " 'It has been approved by the Organisations Board of Directors who will review and update it annually',\n",
       " \"Signed on behalf of Lovehoney Limited:  _____________________________ Bonny Hall - Product Director  28th March 2019  _____________________________ Date  \\\\x0c'\"]"
      ]
     },
     "execution_count": 12,
     "metadata": {},
     "output_type": "execute_result"
    }
   ],
   "source": [
    "get_text(files[0], parser='textract')"
   ]
  },
  {
   "cell_type": "code",
   "execution_count": 52,
   "metadata": {},
   "outputs": [
    {
     "name": "stdout",
     "output_type": "stream",
     "text": [
      "Failed: 0, name: 115_HRModernSlaveryStatement.pdf\n",
      "Failed: 1, name: 110_Slavery-Statement.pdf\n",
      "Failed: 2, name: 128_2018-Preliminary-Modern-Slavery-Statement_FINAL.pdf\n",
      "Failed: 3, name: 159_HUGO_BOSS_Statement_on_Xinjiang.pdf\n",
      "Failed: 4, name: 5_FY20-Modern-Slavery-Statement-.pdf\n",
      "Failed: 5, name: 92_modern-slavery-statements-london.pdf\n",
      "Failed: 6, name: 135_modern-slavery-2019-annual-statement_20200325134455_72980.pdf\n",
      "Failed: 7, name: 96_15756.pdf\n",
      "Failed: 8, name: 14_GOZ-FY20-Modern-Slavery-Statement.pdf\n",
      "Failed: 9, name: 107_ALDI-Australia-FY19-Modern-Slavery-Statement.pdf\n"
     ]
    }
   ],
   "source": [
    "vectorizer = TfidfVectorizer(min_df=1)\n",
    "corpus = []\n",
    "counter = 0\n",
    "file_name = []\n",
    "for file in files[:10]:\n",
    "    if file[-3:] == 'pdf':\n",
    "        try:\n",
    "            text = get_text(file)\n",
    "            text = text.split('.')\n",
    "            lemmatized = lemmatizer(text)\n",
    "            if len(lemmatized) > 1:\n",
    "                print(f'Success: {file}')\n",
    "                file_name.append(file)\n",
    "                corpus.append(' '.join(lemmatized))\n",
    "        except:\n",
    "            print(f'Failed: {counter}, name: {file}')\n",
    "            counter+=1"
   ]
  },
  {
   "cell_type": "code",
   "execution_count": 31,
   "metadata": {},
   "outputs": [
    {
     "data": {
      "text/plain": [
       "60"
      ]
     },
     "execution_count": 31,
     "metadata": {},
     "output_type": "execute_result"
    }
   ],
   "source": [
    "len(file_name)"
   ]
  },
  {
   "cell_type": "code",
   "execution_count": 32,
   "metadata": {},
   "outputs": [],
   "source": [
    "corpus = [i for i in corpus if len(i) > 1]"
   ]
  },
  {
   "cell_type": "code",
   "execution_count": 33,
   "metadata": {},
   "outputs": [],
   "source": [
    "model = vectorizer.fit_transform(corpus)\n",
    "dense = model.todense()"
   ]
  },
  {
   "cell_type": "code",
   "execution_count": 34,
   "metadata": {},
   "outputs": [],
   "source": [
    "similarity = [cosine_similarity(model_1, model_2) for model_1, model_2 in list(combinations_with_replacement(dense, 2))]\n",
    "similarity = [similarity[i][0][0] for i in range(len(similarity))]"
   ]
  },
  {
   "cell_type": "code",
   "execution_count": 35,
   "metadata": {
    "scrolled": true
   },
   "outputs": [
    {
     "data": {
      "text/plain": [
       "1830"
      ]
     },
     "execution_count": 35,
     "metadata": {},
     "output_type": "execute_result"
    }
   ],
   "source": [
    "similarity = np.array(similarity)\n",
    "similarity = np.round(similarity, 2)\n",
    "similarity_of_pdfs = list(zip(list(combinations_with_replacement(range(0,len(corpus)), 2)), similarity))\n",
    "len(similarity_of_pdfs)"
   ]
  },
  {
   "cell_type": "code",
   "execution_count": 36,
   "metadata": {},
   "outputs": [],
   "source": [
    "import pandas as pd"
   ]
  },
  {
   "cell_type": "code",
   "execution_count": 37,
   "metadata": {},
   "outputs": [],
   "source": [
    "df_list = []\n",
    "for (text1, text2), similarity in similarity_of_pdfs:\n",
    "    df_list.append((text1, text2, similarity))"
   ]
  },
  {
   "cell_type": "code",
   "execution_count": 38,
   "metadata": {},
   "outputs": [],
   "source": [
    "df = pd.DataFrame(df_list, columns=['text_1', 'text_2', 'similarity'])"
   ]
  },
  {
   "cell_type": "code",
   "execution_count": 39,
   "metadata": {},
   "outputs": [],
   "source": [
    "flipped = df[['text_2', 'text_1', 'similarity']]\n",
    "flipped.rename(columns={'text_2': 'text_1', 'text_1': 'text_2'}, inplace=True)"
   ]
  },
  {
   "cell_type": "code",
   "execution_count": 40,
   "metadata": {},
   "outputs": [],
   "source": [
    "combined_df = flipped.append(df)"
   ]
  },
  {
   "cell_type": "code",
   "execution_count": 41,
   "metadata": {},
   "outputs": [],
   "source": [
    "sim_scores_for_models = combined_df.groupby('text_1')['similarity'].mean()"
   ]
  },
  {
   "cell_type": "code",
   "execution_count": 42,
   "metadata": {},
   "outputs": [],
   "source": [
    "similarity_scores = sim_scores_for_models.sort_values()"
   ]
  },
  {
   "cell_type": "code",
   "execution_count": 49,
   "metadata": {},
   "outputs": [
    {
     "data": {
      "text/plain": [
       "'19_2019_Santos_Modern_Slavery_Statement.pdf'"
      ]
     },
     "execution_count": 49,
     "metadata": {},
     "output_type": "execute_result"
    }
   ],
   "source": [
    "file_name[18]"
   ]
  },
  {
   "cell_type": "code",
   "execution_count": 48,
   "metadata": {},
   "outputs": [
    {
     "data": {
      "text/plain": [
       "'be responsible for deliver the strategic direction and goal  approve by the Board the CEO be responsible for instill a culture that align with the company ™ s value  10  Modern Slavery Statement 2019  stage 2 end 2019 stage 3  2021 Management Systems Risk Management Procurement and Supply Chain Human Resources Recruitment Customers and Stakeholders Actions take to assess and address risk Modern Slavery Statement 2019  17  Year 2 2020 Monitoring Year 3 2021 e˚ectiveness review and monitor modern slavery action road map Modern Slavery Statement 2019  19  20   Modern Slavery statement 2019'"
      ]
     },
     "execution_count": 48,
     "metadata": {},
     "output_type": "execute_result"
    }
   ],
   "source": [
    "corpus[18]"
   ]
  },
  {
   "cell_type": "code",
   "execution_count": 43,
   "metadata": {},
   "outputs": [
    {
     "data": {
      "text/plain": [
       "text_1\n",
       "10    0.038361\n",
       "36    0.127705\n",
       "18    0.238197\n",
       "20    0.248197\n",
       "11    0.270164\n",
       "51    0.274098\n",
       "23    0.299344\n",
       "6     0.304426\n",
       "55    0.310492\n",
       "40    0.317541\n",
       "38    0.323443\n",
       "3     0.340328\n",
       "14    0.345902\n",
       "58    0.350000\n",
       "43    0.358689\n",
       "8     0.362459\n",
       "25    0.367377\n",
       "2     0.377541\n",
       "52    0.379836\n",
       "13    0.388525\n",
       "41    0.390164\n",
       "4     0.390164\n",
       "24    0.397869\n",
       "42    0.411967\n",
       "9     0.421475\n",
       "17    0.422131\n",
       "27    0.424590\n",
       "33    0.427705\n",
       "28    0.430820\n",
       "56    0.434754\n",
       "15    0.436393\n",
       "37    0.436557\n",
       "21    0.440820\n",
       "53    0.447869\n",
       "54    0.449508\n",
       "45    0.458852\n",
       "47    0.460492\n",
       "57    0.460820\n",
       "35    0.461475\n",
       "5     0.469016\n",
       "34    0.483607\n",
       "1     0.490000\n",
       "12    0.490328\n",
       "30    0.492131\n",
       "7     0.492295\n",
       "29    0.494262\n",
       "50    0.502787\n",
       "22    0.503443\n",
       "0     0.506066\n",
       "32    0.506721\n",
       "26    0.513607\n",
       "39    0.513607\n",
       "48    0.528852\n",
       "59    0.533115\n",
       "19    0.533279\n",
       "49    0.543115\n",
       "46    0.552787\n",
       "16    0.553279\n",
       "31    0.560492\n",
       "44    0.574754\n",
       "Name: similarity, dtype: float64"
      ]
     },
     "execution_count": 43,
     "metadata": {},
     "output_type": "execute_result"
    }
   ],
   "source": [
    "similarity_scores"
   ]
  },
  {
   "cell_type": "code",
   "execution_count": null,
   "metadata": {},
   "outputs": [],
   "source": []
  },
  {
   "cell_type": "code",
   "execution_count": null,
   "metadata": {},
   "outputs": [],
   "source": []
  }
 ],
 "metadata": {
  "kernelspec": {
   "display_name": "Python 3",
   "language": "python",
   "name": "python3"
  },
  "language_info": {
   "codemirror_mode": {
    "name": "ipython",
    "version": 3
   },
   "file_extension": ".py",
   "mimetype": "text/x-python",
   "name": "python",
   "nbconvert_exporter": "python",
   "pygments_lexer": "ipython3",
   "version": "3.7.4"
  }
 },
 "nbformat": 4,
 "nbformat_minor": 4
}

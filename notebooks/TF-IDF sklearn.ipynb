{
 "cells": [
  {
   "cell_type": "code",
   "execution_count": 1,
   "metadata": {},
   "outputs": [],
   "source": [
    "from sklearn.feature_extraction.text import TfidfVectorizer\n",
    "from sklearn.metrics.pairwise import cosine_similarity\n",
    "from itertools import combinations_with_replacement"
   ]
  },
  {
   "cell_type": "code",
   "execution_count": 2,
   "metadata": {},
   "outputs": [],
   "source": [
    "from pathlib import Path as pathl\n",
    "import os, sys\n",
    "import numpy as np\n",
    "#append relevant file paths\n",
    "new_path = pathl('.')\n",
    "parent = new_path.resolve().parent\n",
    "sys.path.append(str(parent))"
   ]
  },
  {
   "cell_type": "code",
   "execution_count": 3,
   "metadata": {},
   "outputs": [],
   "source": [
    "from pdf_parser import pipeline"
   ]
  },
  {
   "cell_type": "code",
   "execution_count": 4,
   "metadata": {},
   "outputs": [],
   "source": [
    "import spacy\n",
    "import pickle\n",
    "nlp = spacy.load('en_core_web_sm')\n",
    "punctuation = '!\"#$%&\\'()*+,-./:;<=>?@[\\]^_`{|}~\\n'"
   ]
  },
  {
   "cell_type": "code",
   "execution_count": 21,
   "metadata": {},
   "outputs": [],
   "source": [
    "current_dir = os.walk(sys.path[-1] + '/Data/downloaded_files')\n",
    "files = []\n",
    "for file in current_dir:\n",
    "    files.append(file[-1])\n",
    "files = sum(files, [])"
   ]
  },
  {
   "cell_type": "code",
   "execution_count": 54,
   "metadata": {},
   "outputs": [],
   "source": [
    "data_path = parent / 'Data/downloaded_files'\n",
    "def get_text(filename, parser='pypdf'):\n",
    "    'Return text from a filename'\n",
    "    pdf_file = data_path / filename\n",
    "    if parser == 'pypdf':\n",
    "        text_dict = pipeline(filepath = str(pdf_file), parser=parser)\n",
    "        text = list(text_dict.values())\n",
    "        text = sum(text, [])\n",
    "        text = [sentence.strip() for sentence in text]\n",
    "        text = ' '.join(text)\n",
    "        return text.split('.')\n",
    "    elif parser == 'textract':\n",
    "        text = pipeline(filepath = str(pdf_file), parser=parser)\n",
    "        tab_pattern = '(\\\\\\\\[tr])*(\\\\\\\\(x0c))*'\n",
    "        new_lines = []\n",
    "        for line in text:\n",
    "            new_line = re.sub(tab_pattern, '',line)\n",
    "            new_line = new_line.strip()\n",
    "            new_lines.append(new_line)\n",
    "        return new_lines\n",
    "    \n",
    "def lemmatizer(text):\n",
    "    'Lemmatizes text'\n",
    "    doc = nlp.pipe(text)\n",
    "    lemmatized = []\n",
    "    for sentence in doc:\n",
    "        sent = []\n",
    "        for word in sentence:\n",
    "            if str(word) in punctuation:\n",
    "                continue\n",
    "            lemma = word.lemma_.strip() \n",
    "            sent.append(lemma)\n",
    "        \n",
    "        lemmatized.append(' '.join(sent))\n",
    "    return lemmatized"
   ]
  },
  {
   "cell_type": "code",
   "execution_count": 82,
   "metadata": {
    "scrolled": true
   },
   "outputs": [
    {
     "name": "stdout",
     "output_type": "stream",
     "text": [
      "Success: 115_HRModernSlaveryStatement.pdf\n",
      "Success: 110_Slavery-Statement.pdf\n",
      "Success: 128_2018-Preliminary-Modern-Slavery-Statement_FINAL.pdf\n",
      "Success: 159_HUGO_BOSS_Statement_on_Xinjiang.pdf\n",
      "Success: 5_FY20-Modern-Slavery-Statement-.pdf\n",
      "Success: 92_modern-slavery-statements-london.pdf\n",
      "Success: 135_modern-slavery-2019-annual-statement_20200325134455_72980.pdf\n",
      "Success: 96_15756.pdf\n",
      "Success: 14_GOZ-FY20-Modern-Slavery-Statement.pdf\n",
      "Success: 107_ALDI-Australia-FY19-Modern-Slavery-Statement.pdf\n",
      "Success: 11_Modern-Slavery-Statement-11-02-2021.pdf\n",
      "Success: 100_IBM_Modern_Slavery_Act_Transparency_Statement_2020.pdf\n",
      "Success: 164_Origin_2020_Modern_Slavery_Statement.pdf\n",
      "failed: 85_Modern-Slavery-Capability-Statement-Strategic-Development-Group-digital.pdf\n",
      "Success: 178_TISC-Consultation-Response_FINAL_160919.pdf\n",
      "Success: 27_Accenture-Modern-Slavery-Act-Statement-Final.pdf\n",
      "Success: 149_11.2-telecom-plus-plc-modern-slavery-statement-fy2021-03.2021.pdf\n",
      "Success: 76_modern-slavery-report.pdf\n",
      "Success: 139_TCEGModernSlaveryStatement.pdf\n",
      "Success: 74_Modern_Slavery_Statement_FINAL_09112020.pdf\n",
      "Success: 71_modern-slavery-statement-2019.pdf\n",
      "Success: 101_antSlaSta.pdf\n",
      "Success: 75_Modern-Slavery-Statement.pdf\n",
      "failed: 177_IPL%2520Modern%2520Slavery%2520Policy_Dec2019.pdf. Not pdf\n",
      "Success: 163_modern-slavery-statement-2019-20.pdf\n",
      "failed: 147_prg-grl-po008-v10-executed-copy-modern-slavery-statement-issued-30-october-2019.pdf\n",
      "Success: 130_UK_Modern_Slavery_Act_Transparency_Statement.pdf\n",
      "Success: 125_aviva-modern-day-slavery-statement-2018.pdf\n",
      "Success: 148_Modern_Slavery_Statement_2018.pdf\n",
      "Success: 153_modern_slavery.pdf\n",
      "Success: 102_modern-slavery-statement-medtronic-australasia-pty-ltd.pdf\n",
      "Success: 60_Transparency_in_Supply_Chains_A_Practical_Guide_2017.pdf\n",
      "Success: 50_WBC_2020_modern_slavery_statement.pdf\n",
      "Success: 42_bingo-modern-slavery-statement-2020-261120.pdf\n",
      "Success: 19_2019_Santos_Modern_Slavery_Statement.pdf\n",
      "Success: 53_avaya-uk-modern-slavery-act-transparency-statement.pdf\n",
      "Success: 180_asos-modern-slavery-statement-2018-2019.pdf\n",
      "Success: 25_nrma-modern-slavery-and-human-trafficking-statement-2019.pdf\n",
      "failed: 66_modern-slavery-statement.pdf\n",
      "Success: 88_modern-slavery-statement-2019.pdf\n",
      "Success: 127_Modern_Slavery_2018_Statement.pdf\n",
      "Success: 175_modernslaverypreventionpolicy.pdf\n",
      "failed: 170_l0Spi_the-rights-and-responsibilities-of-the-modern-univ_IQbqP.pdf. Not pdf\n",
      "Success: 41_ABL-Modern-Slavery-Statement.pdf\n",
      "Success: 134_modern-slavery-statement---final.pdf\n",
      "Success: 181_modern-slavery-act-stmt.pdf\n",
      "Success: 61_2020-11-19-SEK-2020-Modern-Slavery-Statement.pdf\n",
      "Success: 16_1191-modern-slavery-statement.pdf\n",
      "Success: 79_Modern-Slavery-Statement-202002.pdf\n",
      "Success: 32_modern-slavery-covid-19.pdf\n",
      "failed: 117_Facilities-First-Modern-Slavery-Statement-December-2019.pdf\n",
      "Success: 18_Core_RecommendedcontentFINAL-1.pdf\n",
      "Success: 114_2020_UKMSA_englisch.pdf\n",
      "Success: 72_wcx-modern-slavery-statement.pdf\n",
      "Success: 2_20200712_Orica_Modern_Slavery_Statement.pdf\n",
      "Success: 179_modern-slavery-act-statement-2018.pdf\n",
      "Success: 182_mag-modern-slavery-statement-2020.pdf\n",
      "Success: 34_statement-under-modern-slavery-act.pdf\n",
      "Success: 10_2018_google_modern_slavery_statement.pdf\n",
      "Success: 99_JLL-Modern-Slavery-Statement.pdf\n",
      "Success: 104_Hollard-Modern-Slavery-Statement-2019-20.pdf\n",
      "Success: 6_SunRice_Modern_Slavery_Statement.pdf\n",
      "Success: 167_cisco-modern-slavery-statement.pdf\n",
      "Success: 36_UK-modern-slavery-act-statement-2019.pdf\n",
      "Success: 172_2019-slavery-and-human-trafficking-statement.pdf\n",
      "Success: 109_modern-slavery-interim-statement-2019-final.pdf\n",
      "Success: 38_Modern-Day-Slavery-Statement.pdf\n",
      "Success: 120_2021-03-03-modern-slavery-statement-2021.pdf\n",
      "Success: 145_Merck-UK-Modern-Slavery-Act-Statement.pdf\n",
      "Success: 24_qantas-modern-slavery-act-statement-dec2016.pdf\n",
      "Success: 57_Small,Sample,Analysis,of,Modern,Slavery,Statements.pdf\n",
      "Success: 98_SEUK_Modern_Slavery_Statement_2017_final.pdf\n",
      "Success: 129_Deutsche_Bank_UK_Modern_Slavery_Act_Statement_2018.pdf\n",
      "Success: 45_modern-slavery-statement-2018-new.pdf\n",
      "Success: 161_Modern_Slavery_Statement.pdf\n",
      "Success: 86_australia-modern-slavery-statement.pdf\n",
      "Success: 77_Intega-2021-Modern-Slavery-Statement.pdf\n",
      "Success: 82_fluor-msa-statement.pdf\n",
      "Success: 141_modern_slavery_act.pdf\n",
      "failed: 168_Modern%2520Slavery%2520Statement%25202020.pdf. Not pdf\n",
      "Success: 124_ACSI-RIAA-Modern-Slavery-Reporting-Guide-for-Investors-November-2019-2.pdf\n",
      "Success: 105_modern_slavery_statement_2019.pdf\n",
      "failed: 52_ME-Central-Modern-Slavery-Statement.pdf\n",
      "Success: 136_anti-slavery-statement.pdf\n",
      "Success: 173_cba-modern-slavery-human-trafficking-statement-2019.pdf\n",
      "failed: 155_ModernSlavery.pdf\n",
      "Success: 1_modern-slavery-and-human-trafficking-statement.pdf\n",
      "Success: 3_fmg_modern-slavery-voluntary-statement.pdf\n",
      "Success: 97_2017-Modern-slavery-statement.pdf\n",
      "Success: 9_modern-slavery-statement.pdf\n",
      "Success: 94_Konica-Minolta-Australia-Modern-Slavery-Statement-2020-LR.pdf\n",
      "Success: 51_challenger-modern-slavery-statement-2020.pdf\n",
      "Success: 160_iag-uk-slavery-and-human-trafficking-statement-en.pdf\n",
      "Success: 78_modern-slavery-reporting-in-australia_v2.pdf\n",
      "Success: 65_Barclays-Group-Modern-Slavery-Statement-FY2020.pdf\n",
      "failed: 80_modern-slavery-health-check.pdf\n",
      "failed: 133_modern-slavery-statement.pdf\n",
      "Success: 87_Modern_Slavery_Act_Statement.pdf\n",
      "Success: 37_ey-australia-fy20-modern-slavery-statement.pdf\n",
      "Success: 20_Addressing-Modern-Slavery-Report-Final.pdf\n",
      "Success: 40_uk-modern-slavery-act-transparency-statement.pdf\n",
      "Success: 90_lbg-modern-slavery-interactive-final-210222.pdf\n",
      "Success: 67_CE-MODERN-SLAVERY-A4-WEB.pdf\n",
      "Success: 30_Modern_Slavery_Statement.pdf\n",
      "Success: 137_2019-2020-Modern-Slavery-Transparency-Statement.pdf\n",
      "Success: 58_Newmont_ModernSlaveryStatement_March2018.pdf\n",
      "Success: 143_ihg-modern-slavery-statement-2019-final.pdf\n",
      "Success: 33_mns-modern-slavery-statement-may2019.pdf\n",
      "Success: 12_Modern-Slavery-Statement.pdf\n",
      "Success: 13_modern-slavery-guide-for-companies-investors-feb-2019.pdf\n",
      "Success: 7_ampstek-modernslavery.pdf\n",
      "Success: 15_Statement_on_modern_slavery.pdf\n",
      "Success: 93_Reply_Modern_Slavery_Statement.pdf\n",
      "Success: 39_modern-slavery-statement-2019-with-links.pdf\n",
      "failed: 46_asx-modern-slavery-act-statement-fy20.pdf\n",
      "Success: 142_modern-slavery-statement-26-03-2019.pdf\n",
      "Success: 151_Modern-Slavery-Act-Statement-March-2021.pdf\n",
      "Success: 22_Ausgrid-Modern-Slavery-Statement.pdf\n",
      "Success: 48_HM_2019_Modern_Slavery_Statement_final.pdf\n",
      "Success: 35_australia-post-modern-slavery-statement.pdf\n",
      "Success: 131_rb-2018-modern-slavery-act-statement.pdf\n",
      "failed: 95_splunk-modern-slavery-act-transparancy-statement.pdf\n",
      "Success: 169_modern-slavery-policy-statement-uk-fy19.pdf\n",
      "Success: 44_modern-slavery-statement-september-2020.pdf\n",
      "failed: 174_modern-slavery-statement-2020.pdf. Not pdf\n",
      "Success: 73_DOW_Modern_Slavery_Statement_FY20.pdf\n",
      "Success: 49_CMW-Modern-Slavery-Statement-2020.pdf\n",
      "Success: 62_Regis_Modern_Slavery_Statement.pdf\n"
     ]
    }
   ],
   "source": [
    "vectorizer = TfidfVectorizer(min_df=1)\n",
    "corpus = []\n",
    "counter = 0\n",
    "file_name = []\n",
    "for file in files:\n",
    "    try:\n",
    "        if file[-3:] == 'pdf':\n",
    "            text = get_text(file, parser='textract')\n",
    "            lemmatized = lemmatizer(text)\n",
    "            if len(lemmatized) > 1:\n",
    "                print(f'Success: {file}')\n",
    "                file_name.append(file)\n",
    "                corpus.append(' '.join(lemmatized))\n",
    "            else:\n",
    "                print(f'failed: {file}')\n",
    "    except:\n",
    "        print(f'failed: {file}. Not pdf')"
   ]
  },
  {
   "cell_type": "code",
   "execution_count": 83,
   "metadata": {},
   "outputs": [],
   "source": [
    "corpus = [i for i in corpus if len(i) > 1]"
   ]
  },
  {
   "cell_type": "code",
   "execution_count": 84,
   "metadata": {},
   "outputs": [],
   "source": [
    "model = vectorizer.fit_transform(corpus)\n",
    "dense = model.todense()"
   ]
  },
  {
   "cell_type": "code",
   "execution_count": 85,
   "metadata": {},
   "outputs": [],
   "source": [
    "similarity = [cosine_similarity(model_1, model_2) for model_1, model_2 in list(combinations_with_replacement(dense, 2))]\n",
    "similarity = [similarity[i][0][0] for i in range(len(similarity))]"
   ]
  },
  {
   "cell_type": "code",
   "execution_count": 86,
   "metadata": {
    "scrolled": true
   },
   "outputs": [
    {
     "data": {
      "text/plain": [
       "6555"
      ]
     },
     "execution_count": 86,
     "metadata": {},
     "output_type": "execute_result"
    }
   ],
   "source": [
    "similarity = np.array(similarity)\n",
    "similarity = np.round(similarity, 2)\n",
    "similarity_of_pdfs = list(zip(list(combinations_with_replacement(range(0,len(corpus)), 2)), similarity))\n",
    "len(similarity_of_pdfs)"
   ]
  },
  {
   "cell_type": "code",
   "execution_count": 87,
   "metadata": {},
   "outputs": [],
   "source": [
    "import pandas as pd"
   ]
  },
  {
   "cell_type": "code",
   "execution_count": 88,
   "metadata": {},
   "outputs": [],
   "source": [
    "df_list = []\n",
    "for (text1, text2), similarity in similarity_of_pdfs:\n",
    "    df_list.append((text1, text2, similarity))"
   ]
  },
  {
   "cell_type": "code",
   "execution_count": 89,
   "metadata": {},
   "outputs": [],
   "source": [
    "df = pd.DataFrame(df_list, columns=['text_1', 'text_2', 'similarity'])"
   ]
  },
  {
   "cell_type": "code",
   "execution_count": 103,
   "metadata": {},
   "outputs": [],
   "source": [
    "flipped = df[['text_2', 'text_1', 'similarity']]\n",
    "flipped.rename(columns={'text_2': 'text_1', 'text_1': 'text_2'}, inplace=True)"
   ]
  },
  {
   "cell_type": "code",
   "execution_count": 104,
   "metadata": {},
   "outputs": [],
   "source": [
    "combined_df = flipped.append(df)\n",
    "combined_df = combined_df.drop_duplicates()"
   ]
  },
  {
   "cell_type": "code",
   "execution_count": 105,
   "metadata": {},
   "outputs": [],
   "source": [
    "sim_scores_for_models = combined_df.groupby('text_1')['similarity'].mean()"
   ]
  },
  {
   "cell_type": "code",
   "execution_count": 106,
   "metadata": {},
   "outputs": [],
   "source": [
    "similarity_scores = sim_scores_for_models.sort_values()"
   ]
  },
  {
   "cell_type": "code",
   "execution_count": 107,
   "metadata": {},
   "outputs": [
    {
     "data": {
      "text/plain": [
       "text_1\n",
       "67     0.322719\n",
       "104    0.325351\n",
       "43     0.331404\n",
       "20     0.332982\n",
       "35     0.335088\n",
       "         ...   \n",
       "77     0.663772\n",
       "28     0.671491\n",
       "98     0.678246\n",
       "61     0.678246\n",
       "90     0.682193\n",
       "Name: similarity, Length: 114, dtype: float64"
      ]
     },
     "execution_count": 107,
     "metadata": {},
     "output_type": "execute_result"
    }
   ],
   "source": [
    "similarity_scores"
   ]
  },
  {
   "cell_type": "code",
   "execution_count": 113,
   "metadata": {},
   "outputs": [
    {
     "name": "stdout",
     "output_type": "stream",
     "text": [
      "The least 10 relevant statements are the following: \n",
      "\n",
      "38_Modern-Day-Slavery-Statement.pdf\n",
      "30_Modern_Slavery_Statement.pdf\n",
      "170_l0Spi_the-rights-and-responsibilities-of-the-modern-univ_IQbqP.pdf\n",
      "74_Modern_Slavery_Statement_FINAL_09112020.pdf\n",
      "19_2019_Santos_Modern_Slavery_Statement.pdf\n",
      "167_cisco-modern-slavery-statement.pdf\n",
      "12_Modern-Slavery-Statement.pdf\n",
      "53_avaya-uk-modern-slavery-act-transparency-statement.pdf\n",
      "72_wcx-modern-slavery-statement.pdf\n",
      "75_Modern-Slavery-Statement.pdf\n"
     ]
    }
   ],
   "source": [
    "print('The least 10 relevant statements are the following: \\n')\n",
    "for i in similarity_scores[:10].index:\n",
    "    print(files[i])"
   ]
  },
  {
   "cell_type": "code",
   "execution_count": 114,
   "metadata": {},
   "outputs": [
    {
     "name": "stdout",
     "output_type": "stream",
     "text": [
      "The most 10 relevant statements are the following: \n",
      "\n",
      "16_1191-modern-slavery-statement.pdf\n",
      "115_HRModernSlaveryStatement.pdf\n",
      "80_modern-slavery-health-check.pdf\n",
      "143_ihg-modern-slavery-statement-2019-final.pdf\n",
      "86_australia-modern-slavery-statement.pdf\n",
      "77_Intega-2021-Modern-Slavery-Statement.pdf\n",
      "125_aviva-modern-day-slavery-statement-2018.pdf\n",
      "87_Modern_Slavery_Act_Statement.pdf\n",
      "104_Hollard-Modern-Slavery-Statement-2019-20.pdf\n",
      "9_modern-slavery-statement.pdf\n"
     ]
    }
   ],
   "source": [
    "print('The most 10 relevant statements are the following: \\n')\n",
    "for i in similarity_scores[-10:].index:\n",
    "    print(files[i])"
   ]
  },
  {
   "cell_type": "code",
   "execution_count": null,
   "metadata": {},
   "outputs": [],
   "source": []
  }
 ],
 "metadata": {
  "kernelspec": {
   "display_name": "Python 3",
   "language": "python",
   "name": "python3"
  },
  "language_info": {
   "codemirror_mode": {
    "name": "ipython",
    "version": 3
   },
   "file_extension": ".py",
   "mimetype": "text/x-python",
   "name": "python",
   "nbconvert_exporter": "python",
   "pygments_lexer": "ipython3",
   "version": "3.7.4"
  }
 },
 "nbformat": 4,
 "nbformat_minor": 4
}

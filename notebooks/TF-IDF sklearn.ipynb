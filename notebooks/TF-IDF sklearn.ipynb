{
 "cells": [
  {
   "cell_type": "code",
   "execution_count": 80,
   "metadata": {},
   "outputs": [],
   "source": [
    "from sklearn.feature_extraction.text import TfidfVectorizer\n",
    "from sklearn.metrics.pairwise import cosine_similarity"
   ]
  },
  {
   "cell_type": "code",
   "execution_count": 81,
   "metadata": {},
   "outputs": [],
   "source": [
    "import os, sys\n",
    "from pathlib import Path as pathl\n",
    "from pdf_parser import pipeline"
   ]
  },
  {
   "cell_type": "code",
   "execution_count": 95,
   "metadata": {},
   "outputs": [],
   "source": [
    "import spacy\n",
    "import pickle\n",
    "nlp = spacy.load('en_core_web_sm')\n",
    "punctuation = '!\"#$%&\\'()*+,-./:;<=>?@[\\]^_`{|}~\\n'"
   ]
  },
  {
   "cell_type": "code",
   "execution_count": 96,
   "metadata": {},
   "outputs": [],
   "source": [
    "#append relevant file paths\n",
    "new_path = pathl('.')\n",
    "parent = new_path.resolve().parent\n",
    "sys.path.append(str(parent))"
   ]
  },
  {
   "cell_type": "code",
   "execution_count": 87,
   "metadata": {},
   "outputs": [],
   "source": [
    "current_dir = os.walk(sys.path[-1] + '/Data')\n",
    "files = []\n",
    "for file in current_dir:\n",
    "    files.append(file[-1])\n",
    "files = sum(files, [])"
   ]
  },
  {
   "cell_type": "code",
   "execution_count": 42,
   "metadata": {},
   "outputs": [],
   "source": [
    "data_path = parent / 'Data'\n",
    "def get_text(filename):\n",
    "    'Return text from a filename'\n",
    "    pdf_file = data_path / filename\n",
    "    text_dict = pipeline(filepath = str(pdf_file))\n",
    "    text = list(text_dict.values())\n",
    "    text = sum(text, [])\n",
    "    text = [sentence.strip() for sentence in text]\n",
    "    text = ' '.join(text)\n",
    "    return text\n",
    "\n",
    "def lemmatizer(text):\n",
    "    'Lemmatizes text'\n",
    "    doc = nlp.pipe(text)\n",
    "    lemmatized = []\n",
    "    for sentence in doc:\n",
    "        sent = []\n",
    "        for word in sentence:\n",
    "            if str(word) in punctuation:\n",
    "                continue\n",
    "            lemma = word.lemma_.strip() \n",
    "            sent.append(lemma)\n",
    "        \n",
    "        lemmatized.append(' '.join(sent))\n",
    "    return lemmatized"
   ]
  },
  {
   "cell_type": "code",
   "execution_count": 70,
   "metadata": {},
   "outputs": [],
   "source": [
    "vectorizer = TfidfVectorizer(min_df=1)\n",
    "corpus = []\n",
    "for file in files:\n",
    "    if file[-3:] == 'pdf':\n",
    "        text = get_text(file)\n",
    "        text = text.split('.')\n",
    "        lemmatized = lemmatizer(text)\n",
    "        corpus.append(' '.join(lemmatized))"
   ]
  },
  {
   "cell_type": "code",
   "execution_count": 71,
   "metadata": {},
   "outputs": [],
   "source": [
    "model = vectorizer.fit_transform(corpus)\n",
    "dense = model.todense()"
   ]
  },
  {
   "cell_type": "code",
   "execution_count": 72,
   "metadata": {},
   "outputs": [
    {
     "data": {
      "text/plain": [
       "array([[0.62116493]])"
      ]
     },
     "execution_count": 72,
     "metadata": {},
     "output_type": "execute_result"
    }
   ],
   "source": [
    "cosine_similarity(model[0], model[1])"
   ]
  },
  {
   "cell_type": "code",
   "execution_count": 73,
   "metadata": {},
   "outputs": [
    {
     "data": {
      "text/plain": [
       "array([[0.64637026]])"
      ]
     },
     "execution_count": 73,
     "metadata": {},
     "output_type": "execute_result"
    }
   ],
   "source": [
    "cosine_similarity(model[0], model[2])"
   ]
  },
  {
   "cell_type": "code",
   "execution_count": 74,
   "metadata": {
    "scrolled": false
   },
   "outputs": [
    {
     "data": {
      "text/plain": [
       "array([[0.64236199]])"
      ]
     },
     "execution_count": 74,
     "metadata": {},
     "output_type": "execute_result"
    }
   ],
   "source": [
    "cosine_similarity(model[1], model[2])"
   ]
  },
  {
   "cell_type": "code",
   "execution_count": 198,
   "metadata": {},
   "outputs": [],
   "source": [
    "test = 'https://www.qantas.com/content/dam/qantas/pdfs/about-us/corporate-governance/modern-slavery-and-human-trafficking-statement.pdf'"
   ]
  },
  {
   "cell_type": "code",
   "execution_count": 226,
   "metadata": {},
   "outputs": [],
   "source": [
    "pattern = '[^/]+(\\.pdf)'\n",
    "match = re.search(pattern, url_list[0])"
   ]
  },
  {
   "cell_type": "code",
   "execution_count": 233,
   "metadata": {},
   "outputs": [
    {
     "data": {
      "text/plain": [
       "'modern-slavery-and-human-trafficking-statement.pdf'"
      ]
     },
     "execution_count": 233,
     "metadata": {},
     "output_type": "execute_result"
    }
   ],
   "source": [
    "match[0]"
   ]
  },
  {
   "cell_type": "code",
   "execution_count": 234,
   "metadata": {},
   "outputs": [],
   "source": [
    "import urllib.request"
   ]
  },
  {
   "cell_type": "code",
   "execution_count": 236,
   "metadata": {},
   "outputs": [
    {
     "data": {
      "text/plain": [
       "'pdf'"
      ]
     },
     "execution_count": 236,
     "metadata": {},
     "output_type": "execute_result"
    }
   ],
   "source": [
    "match[0][-3:]"
   ]
  },
  {
   "cell_type": "code",
   "execution_count": 238,
   "metadata": {},
   "outputs": [],
   "source": [
    "def download_file(download_url, filename):\n",
    "    response = urllib.request.urlopen(download_url)\n",
    "    if filename[-3:] == 'pdf':\n",
    "        file = open(filename, 'wb')\n",
    "    else:\n",
    "        file = open(filename + \".pdf\", 'wb')\n",
    "    file.write(response.read())\n",
    "    file.close()\n",
    "\n",
    "pattern = '[^/]+(\\.pdf)'  \n",
    "for url in url_list[:1]:\n",
    "    match = re.search(pattern, url)\n",
    "    title = match[0]\n",
    "    download_file(url, title)"
   ]
  },
  {
   "cell_type": "code",
   "execution_count": 250,
   "metadata": {},
   "outputs": [],
   "source": [
    "pattern = '.*(\\.pdf)' \n",
    "match = re.search(pattern, url_list[3])"
   ]
  },
  {
   "cell_type": "code",
   "execution_count": null,
   "metadata": {},
   "outputs": [],
   "source": []
  },
  {
   "cell_type": "code",
   "execution_count": 251,
   "metadata": {},
   "outputs": [
    {
     "data": {
      "text/plain": [
       "'https://www.orica.com/ArticleDocuments/311/20200712_Orica_Modern_Slavery_Statement.pdf'"
      ]
     },
     "execution_count": 251,
     "metadata": {},
     "output_type": "execute_result"
    }
   ],
   "source": [
    "match[0]"
   ]
  },
  {
   "cell_type": "code",
   "execution_count": 252,
   "metadata": {},
   "outputs": [
    {
     "data": {
      "text/plain": [
       "'https://modernslaveryregister.gov.au/statements/file/cba2a76f-4097-458d-8195-11f4c56aedb7/'"
      ]
     },
     "execution_count": 252,
     "metadata": {},
     "output_type": "execute_result"
    }
   ],
   "source": [
    "url_list[8]"
   ]
  },
  {
   "cell_type": "code",
   "execution_count": 258,
   "metadata": {},
   "outputs": [],
   "source": [
    "all_links = url_list\n",
    "pattern = '.*(\\.pdf)' \n",
    "relevant_links = []\n",
    "for link in all_links:\n",
    "    match = re.search(pattern, link)\n",
    "    if match:\n",
    "        relevant_links.append(link)"
   ]
  },
  {
   "cell_type": "code",
   "execution_count": 270,
   "metadata": {},
   "outputs": [],
   "source": [
    "from bs4 import BeautifulSoup"
   ]
  },
  {
   "cell_type": "code",
   "execution_count": 273,
   "metadata": {},
   "outputs": [],
   "source": [
    "import requests\n",
    "all_links = []\n",
    "query = 'modern slavery statements pdf'\n",
    "query = query.replace(' ', '+')\n",
    "for page_number in range(0, 30,10):\n",
    "    url = f\"https://google.com/search?q={query}&start={page_number}&end={page_number+10}'\"\n",
    "    resp = requests.get(url)\n",
    "    soup = BeautifulSoup(resp.content, \"html.parser\")   \n",
    "    result = soup.find_all('div', attrs = {'class': 'ZINbbc'})\n",
    "    results=[re.search('\\/url\\?q\\=(.*)\\&sa',str(i.find('a', href = True)['href'])) for i in result if \"url\" in str(i)]\n",
    "    #this is because in rare cases we can't get the urls\n",
    "    links=[i.group(1) for i in results if i != None]\n",
    "    all_links.append(links)"
   ]
  },
  {
   "cell_type": "code",
   "execution_count": 275,
   "metadata": {},
   "outputs": [
    {
     "data": {
      "text/plain": [
       "['https://www.qantas.com/content/dam/qantas/pdfs/about-us/corporate-governance/modern-slavery-and-human-trafficking-statement.pdf',\n",
       " 'https://www.orica.com/ArticleDocuments/311/20200712_Orica_Modern_Slavery_Statement.pdf.aspx',\n",
       " 'https://www.fmgl.com.au/docs/default-source/default-document-library/fmg_modern-slavery-voluntary-statement.pdf',\n",
       " 'https://www.goodman.com/-/media/Files/Sites/Global/Who-we-are/corporate-governance/Statements/Modern-Slavery-Statement.pdf%3Fla%3Den%26hash%3DBEB9C6B244ECCB79A6E45B76C2242CB2FF32F684',\n",
       " 'https://www.suncorpgroup.com.au/uploads/FY20-Modern-Slavery-Statement-.pdf',\n",
       " 'https://investors.sunrice.com.au/FormBuilder/_Resource/_module/2weQNICYSUy13FE_jxQXvg/file/sustainability-reports/SunRice_Modern_Slavery_Statement.pdf',\n",
       " 'https://ampstek.com/ampstek-modernslavery.pdf',\n",
       " 'https://www.bhp.com/-/media/documents/investors/annual-reports/2020/200915_bhpmodernslaverystatement2020.pdf%3Fla%3Den',\n",
       " 'https://modernslaveryregister.gov.au/statements/file/cba2a76f-4097-458d-8195-11f4c56aedb7/',\n",
       " 'https://www.anz.com.au/content/dam/anzcomau/documents/pdf/aboutus/modern-slavery-statement.pdf']"
      ]
     },
     "execution_count": 275,
     "metadata": {},
     "output_type": "execute_result"
    }
   ],
   "source": [
    "all_links[0]"
   ]
  },
  {
   "cell_type": "code",
   "execution_count": 276,
   "metadata": {},
   "outputs": [],
   "source": [
    "all_links = sum(all_links, [])"
   ]
  },
  {
   "cell_type": "code",
   "execution_count": 277,
   "metadata": {},
   "outputs": [
    {
     "data": {
      "text/plain": [
       "['https://www.qantas.com/content/dam/qantas/pdfs/about-us/corporate-governance/modern-slavery-and-human-trafficking-statement.pdf',\n",
       " 'https://www.orica.com/ArticleDocuments/311/20200712_Orica_Modern_Slavery_Statement.pdf.aspx',\n",
       " 'https://www.fmgl.com.au/docs/default-source/default-document-library/fmg_modern-slavery-voluntary-statement.pdf',\n",
       " 'https://www.goodman.com/-/media/Files/Sites/Global/Who-we-are/corporate-governance/Statements/Modern-Slavery-Statement.pdf%3Fla%3Den%26hash%3DBEB9C6B244ECCB79A6E45B76C2242CB2FF32F684',\n",
       " 'https://www.suncorpgroup.com.au/uploads/FY20-Modern-Slavery-Statement-.pdf',\n",
       " 'https://investors.sunrice.com.au/FormBuilder/_Resource/_module/2weQNICYSUy13FE_jxQXvg/file/sustainability-reports/SunRice_Modern_Slavery_Statement.pdf',\n",
       " 'https://ampstek.com/ampstek-modernslavery.pdf',\n",
       " 'https://www.bhp.com/-/media/documents/investors/annual-reports/2020/200915_bhpmodernslaverystatement2020.pdf%3Fla%3Den',\n",
       " 'https://modernslaveryregister.gov.au/statements/file/cba2a76f-4097-458d-8195-11f4c56aedb7/',\n",
       " 'https://www.anz.com.au/content/dam/anzcomau/documents/pdf/aboutus/modern-slavery-statement.pdf',\n",
       " 'https://services.google.com/fh/files/misc/2018_google_modern_slavery_statement.pdf',\n",
       " 'https://www.nsrltd.com/wp-content/uploads/2021/02/Modern-Slavery-Statement-11-02-2021.pdf',\n",
       " 'https://accesso.com/assets/documents/Modern-Slavery-Statement.pdf',\n",
       " 'https://assets.kpmg/content/dam/kpmg/au/pdf/2019/modern-slavery-guide-for-companies-investors-feb-2019.pdf',\n",
       " 'https://growthpoint.com.au/sites/default/files/governance/GOZ-FY20-Modern-Slavery-Statement.pdf',\n",
       " 'https://www.uniting.org/content/dam/uniting/documents/get-involved/Statement_on_modern_slavery.pdf',\n",
       " 'https://www.nokia.com/sites/default/files/2019-07/1191-modern-slavery-statement.pdf',\n",
       " 'https://www.benetas.com.au/modern-slavery',\n",
       " 'https://www.sony.net/SonyInfo/csr/library/msa/sis4ug000000k11n-att/SonyJointModernSlaveryStatement_Reportingyearending_2020.pdf',\n",
       " 'https://www.legislation.gov.au/Details/C2018A00153',\n",
       " 'https://corporate-responsibility.org/wp-content/uploads/2017/06/Core_RecommendedcontentFINAL-1.pdf',\n",
       " 'https://www.santos.com/wp-content/uploads/2020/07/2019_Santos_Modern_Slavery_Statement.pdf',\n",
       " 'https://www.redcross.org.au/getmedia/49f34bf5-d438-4aa4-bd9e-d2412ff8b08a/Addressing-Modern-Slavery-Report-Final.pdf.aspx',\n",
       " 'https://www.telstra.com.au/content/dam/tcom/about-us/investors/pdf%2520F/Telstra-2019-Modern-Slavery-Act-Statement.pdf',\n",
       " 'https://www.ausgrid.com.au/-/media/Documents/Corporate-Reports/Ausgrid-Modern-Slavery-Statement.pdf',\n",
       " 'https://www.cocacolaep.com/assets/Sustainability/Documents/e42b2f104b/2018-Modern-Slavery-Statement-v2.pdf',\n",
       " 'https://www.qantas.com.au/infodetail/about/corporateGovernance/qantas-modern-slavery-act-statement-dec2016.pdf',\n",
       " 'https://www.mynrma.com.au/-/media/documents/nrma-modern-slavery-and-human-trafficking-statement-2019.pdf%3Fla%3Den%26hash%3D365F8710385B9D39BEFD9C5649DFD0CD',\n",
       " 'https://aicd.companydirectors.com.au/-/media/cd2/resources/director-resources/director-tools/2020/organisational/07236-6-37-dt-org-signing-off-on-modern-slavery-statements-nov20-a4-web.ashx',\n",
       " 'https://www.south32.net/docs/default-source/all-financial-results/2018-annual-reporting-suite/south32-modern-slavery-statement-2018.pdf%3Fsfvrsn%3D72daf7ff_2']"
      ]
     },
     "execution_count": 277,
     "metadata": {},
     "output_type": "execute_result"
    }
   ],
   "source": [
    "all_links"
   ]
  },
  {
   "cell_type": "code",
   "execution_count": 288,
   "metadata": {},
   "outputs": [],
   "source": [
    "pattern = '.*(\\.pdf)' \n",
    "relevant_links = []\n",
    "for link in all_links:\n",
    "    match = re.search(pattern, link)\n",
    "    if match:\n",
    "        relevant_links.append(link)"
   ]
  },
  {
   "cell_type": "code",
   "execution_count": 291,
   "metadata": {
    "scrolled": false
   },
   "outputs": [
    {
     "name": "stdout",
     "output_type": "stream",
     "text": [
      "['https://www.qantas.com/content/dam/qantas/pdfs/about-us/corporate-governance/modern-slavery-and-human-trafficking-statement.pdf', 'https://www.orica.com/ArticleDocuments/311/20200712_Orica_Modern_Slavery_Statement.pdf.aspx', 'https://www.fmgl.com.au/docs/default-source/default-document-library/fmg_modern-slavery-voluntary-statement.pdf', 'https://www.goodman.com/-/media/Files/Sites/Global/Who-we-are/corporate-governance/Statements/Modern-Slavery-Statement.pdf%3Fla%3Den%26hash%3DBEB9C6B244ECCB79A6E45B76C2242CB2FF32F684', 'https://www.suncorpgroup.com.au/uploads/FY20-Modern-Slavery-Statement-.pdf', 'https://investors.sunrice.com.au/FormBuilder/_Resource/_module/2weQNICYSUy13FE_jxQXvg/file/sustainability-reports/SunRice_Modern_Slavery_Statement.pdf', 'https://ampstek.com/ampstek-modernslavery.pdf', 'https://www.bhp.com/-/media/documents/investors/annual-reports/2020/200915_bhpmodernslaverystatement2020.pdf%3Fla%3Den', 'https://www.anz.com.au/content/dam/anzcomau/documents/pdf/aboutus/modern-slavery-statement.pdf', 'https://services.google.com/fh/files/misc/2018_google_modern_slavery_statement.pdf', 'https://www.nsrltd.com/wp-content/uploads/2021/02/Modern-Slavery-Statement-11-02-2021.pdf', 'https://accesso.com/assets/documents/Modern-Slavery-Statement.pdf', 'https://assets.kpmg/content/dam/kpmg/au/pdf/2019/modern-slavery-guide-for-companies-investors-feb-2019.pdf', 'https://growthpoint.com.au/sites/default/files/governance/GOZ-FY20-Modern-Slavery-Statement.pdf', 'https://www.uniting.org/content/dam/uniting/documents/get-involved/Statement_on_modern_slavery.pdf', 'https://www.nokia.com/sites/default/files/2019-07/1191-modern-slavery-statement.pdf', 'https://www.sony.net/SonyInfo/csr/library/msa/sis4ug000000k11n-att/SonyJointModernSlaveryStatement_Reportingyearending_2020.pdf', 'https://corporate-responsibility.org/wp-content/uploads/2017/06/Core_RecommendedcontentFINAL-1.pdf', 'https://www.santos.com/wp-content/uploads/2020/07/2019_Santos_Modern_Slavery_Statement.pdf', 'https://www.redcross.org.au/getmedia/49f34bf5-d438-4aa4-bd9e-d2412ff8b08a/Addressing-Modern-Slavery-Report-Final.pdf.aspx', 'https://www.telstra.com.au/content/dam/tcom/about-us/investors/pdf%2520F/Telstra-2019-Modern-Slavery-Act-Statement.pdf', 'https://www.ausgrid.com.au/-/media/Documents/Corporate-Reports/Ausgrid-Modern-Slavery-Statement.pdf', 'https://www.cocacolaep.com/assets/Sustainability/Documents/e42b2f104b/2018-Modern-Slavery-Statement-v2.pdf', 'https://www.qantas.com.au/infodetail/about/corporateGovernance/qantas-modern-slavery-act-statement-dec2016.pdf', 'https://www.mynrma.com.au/-/media/documents/nrma-modern-slavery-and-human-trafficking-statement-2019.pdf%3Fla%3Den%26hash%3D365F8710385B9D39BEFD9C5649DFD0CD', 'https://www.south32.net/docs/default-source/all-financial-results/2018-annual-reporting-suite/south32-modern-slavery-statement-2018.pdf%3Fsfvrsn%3D72daf7ff_2']\n"
     ]
    }
   ],
   "source": [
    "pattern = '[^/]+(\\.pdf)'  \n",
    "count = 0\n",
    "\n",
    "print(relevant_links)"
   ]
  },
  {
   "cell_type": "code",
   "execution_count": null,
   "metadata": {},
   "outputs": [],
   "source": []
  }
 ],
 "metadata": {
  "kernelspec": {
   "display_name": "Python 3",
   "language": "python",
   "name": "python3"
  },
  "language_info": {
   "codemirror_mode": {
    "name": "ipython",
    "version": 3
   },
   "file_extension": ".py",
   "mimetype": "text/x-python",
   "name": "python",
   "nbconvert_exporter": "python",
   "pygments_lexer": "ipython3",
   "version": "3.7.4"
  }
 },
 "nbformat": 4,
 "nbformat_minor": 4
}

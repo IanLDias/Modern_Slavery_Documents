{
 "cells": [
  {
   "cell_type": "markdown",
   "metadata": {},
   "source": [
    "\n",
    "\n",
    "https://thecnnfreedomproject.blogs.cnn.com/2011/03/07/cost-of-slaves-falls-to-historic-low/ (2011)\n",
    "- ~$90 to own a slave\n",
    "- Half of all slaves are in Asia\n",
    "- Industries\n",
    "    - Prostitution\n",
    "    - Sweatshop manufacturing\n",
    "    - Coffee / Tea trades\n",
    "    - Food processing\n",
    "    - Health care"
   ]
  },
  {
   "cell_type": "markdown",
   "metadata": {},
   "source": [
    "Useful: https://www.globalslaveryindex.org/resources/downloads/\n",
    "\n",
    "- Factors\n",
    "\n",
    "migration, conflict, repressive regimes,\n",
    "unethical business, environmental destruction and\n",
    "discrimination\n",
    "\n"
   ]
  },
  {
   "cell_type": "code",
   "execution_count": null,
   "metadata": {},
   "outputs": [],
   "source": []
  }
 ],
 "metadata": {
  "kernelspec": {
   "display_name": "Python 3",
   "language": "python",
   "name": "python3"
  },
  "language_info": {
   "codemirror_mode": {
    "name": "ipython",
    "version": 3
   },
   "file_extension": ".py",
   "mimetype": "text/x-python",
   "name": "python",
   "nbconvert_exporter": "python",
   "pygments_lexer": "ipython3",
   "version": "3.7.4"
  }
 },
 "nbformat": 4,
 "nbformat_minor": 4
}

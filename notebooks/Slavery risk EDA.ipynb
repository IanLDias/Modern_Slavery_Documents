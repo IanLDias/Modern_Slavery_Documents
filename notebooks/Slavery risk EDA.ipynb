{
 "cells": [
  {
   "cell_type": "markdown",
   "metadata": {},
   "source": [
    "### Identifying risk factors for modern slavery\n",
    "\n",
    "- Looks at most common causes, locations and industries of slavery and if a company is at risk of engaging in these behaviours"
   ]
  },
  {
   "cell_type": "markdown",
   "metadata": {},
   "source": [
    "### Notes\n",
    "\n",
    "Useful: https://www.globalslaveryindex.org/resources/downloads/\n",
    "\n",
    "https://thecnnfreedomproject.blogs.cnn.com/2011/03/07/cost-of-slaves-falls-to-historic-low/ (2011)\n",
    "- ~$90 to own a slave\n",
    "- Half of all slaves are in Asia\n",
    "- Industries\n",
    "    - Prostitution\n",
    "    - Sweatshop manufacturing\n",
    "    - Coffee / Tea trades\n",
    "    - Food processing\n",
    "    - Health care\n",
    "    "
   ]
  },
  {
   "cell_type": "code",
   "execution_count": 93,
   "metadata": {},
   "outputs": [],
   "source": [
    "import pandas as pd\n",
    "import re\n",
    "import sys\n",
    "from pathlib import Path as pathl"
   ]
  },
  {
   "cell_type": "code",
   "execution_count": 108,
   "metadata": {},
   "outputs": [],
   "source": [
    "#append relevant file paths\n",
    "new_path = pathl('.')\n",
    "parent = new_path.resolve().parent\n",
    "sys.path.append(str(parent))\n",
    "data_path = parent / 'Data'"
   ]
  },
  {
   "cell_type": "code",
   "execution_count": 135,
   "metadata": {},
   "outputs": [],
   "source": [
    "df = pd.read_csv(str(data_path)+'/prevalence_data.csv', error_bad_lines=False, header=None, sep=' ',\n",
    "                names=['country', 'prevalence', 'num_absolute', 'population'])"
   ]
  },
  {
   "cell_type": "code",
   "execution_count": 129,
   "metadata": {},
   "outputs": [],
   "source": [
    "df.drop(columns=0, axis=1, inplace=True)"
   ]
  },
  {
   "cell_type": "code",
   "execution_count": 137,
   "metadata": {},
   "outputs": [
    {
     "data": {
      "text/html": [
       "<div>\n",
       "<style scoped>\n",
       "    .dataframe tbody tr th:only-of-type {\n",
       "        vertical-align: middle;\n",
       "    }\n",
       "\n",
       "    .dataframe tbody tr th {\n",
       "        vertical-align: top;\n",
       "    }\n",
       "\n",
       "    .dataframe thead th {\n",
       "        text-align: right;\n",
       "    }\n",
       "</style>\n",
       "<table border=\"1\" class=\"dataframe\">\n",
       "  <thead>\n",
       "    <tr style=\"text-align: right;\">\n",
       "      <th></th>\n",
       "      <th>country</th>\n",
       "      <th>prevalence</th>\n",
       "      <th>num_absolute</th>\n",
       "      <th>population</th>\n",
       "    </tr>\n",
       "  </thead>\n",
       "  <tbody>\n",
       "    <tr>\n",
       "      <th>1</th>\n",
       "      <td>North_Korea</td>\n",
       "      <td>104.6</td>\n",
       "      <td>2,640,000</td>\n",
       "      <td>25,244,000</td>\n",
       "    </tr>\n",
       "    <tr>\n",
       "      <th>2</th>\n",
       "      <td>Eritrea</td>\n",
       "      <td>93.0</td>\n",
       "      <td>451,000</td>\n",
       "      <td>4,847,000</td>\n",
       "    </tr>\n",
       "    <tr>\n",
       "      <th>3</th>\n",
       "      <td>Burundi</td>\n",
       "      <td>40.0</td>\n",
       "      <td>408,000</td>\n",
       "      <td>10,199,000</td>\n",
       "    </tr>\n",
       "    <tr>\n",
       "      <th>4</th>\n",
       "      <td>Central_African_Republic</td>\n",
       "      <td>22.3</td>\n",
       "      <td>101,000</td>\n",
       "      <td>4,546,000</td>\n",
       "    </tr>\n",
       "    <tr>\n",
       "      <th>5</th>\n",
       "      <td>Afghanistan</td>\n",
       "      <td>22.2</td>\n",
       "      <td>749,000</td>\n",
       "      <td>33,736,000</td>\n",
       "    </tr>\n",
       "    <tr>\n",
       "      <th>...</th>\n",
       "      <td>...</td>\n",
       "      <td>...</td>\n",
       "      <td>...</td>\n",
       "      <td>...</td>\n",
       "    </tr>\n",
       "    <tr>\n",
       "      <th>163</th>\n",
       "      <td>Australia</td>\n",
       "      <td>0.6</td>\n",
       "      <td>15,000</td>\n",
       "      <td>23,800,000</td>\n",
       "    </tr>\n",
       "    <tr>\n",
       "      <th>164</th>\n",
       "      <td>New_Zealand</td>\n",
       "      <td>0.6</td>\n",
       "      <td>3,000</td>\n",
       "      <td>4,615,000</td>\n",
       "    </tr>\n",
       "    <tr>\n",
       "      <th>165</th>\n",
       "      <td>Taiwan</td>\n",
       "      <td>0.5</td>\n",
       "      <td>12,000</td>\n",
       "      <td>23,486,000</td>\n",
       "    </tr>\n",
       "    <tr>\n",
       "      <th>166</th>\n",
       "      <td>Canada</td>\n",
       "      <td>0.5</td>\n",
       "      <td>17,000</td>\n",
       "      <td>35,950,000</td>\n",
       "    </tr>\n",
       "    <tr>\n",
       "      <th>167</th>\n",
       "      <td>Japan</td>\n",
       "      <td>0.3</td>\n",
       "      <td>37,000</td>\n",
       "      <td>127,975,000</td>\n",
       "    </tr>\n",
       "  </tbody>\n",
       "</table>\n",
       "<p>167 rows × 4 columns</p>\n",
       "</div>"
      ],
      "text/plain": [
       "                      country prevalence num_absolute   population\n",
       "1                 North_Korea      104.6    2,640,000   25,244,000\n",
       "2                     Eritrea       93.0      451,000    4,847,000\n",
       "3                     Burundi       40.0      408,000   10,199,000\n",
       "4    Central_African_Republic       22.3      101,000    4,546,000\n",
       "5                 Afghanistan       22.2      749,000   33,736,000\n",
       "..                        ...        ...          ...          ...\n",
       "163                 Australia        0.6       15,000   23,800,000\n",
       "164               New_Zealand        0.6        3,000    4,615,000\n",
       "165                    Taiwan        0.5       12,000   23,486,000\n",
       "166                    Canada        0.5       17,000   35,950,000\n",
       "167                     Japan        0.3       37,000  127,975,000\n",
       "\n",
       "[167 rows x 4 columns]"
      ]
     },
     "execution_count": 137,
     "metadata": {},
     "output_type": "execute_result"
    }
   ],
   "source": [
    "df"
   ]
  },
  {
   "cell_type": "code",
   "execution_count": null,
   "metadata": {},
   "outputs": [],
   "source": []
  }
 ],
 "metadata": {
  "kernelspec": {
   "display_name": "Python 3",
   "language": "python",
   "name": "python3"
  },
  "language_info": {
   "codemirror_mode": {
    "name": "ipython",
    "version": 3
   },
   "file_extension": ".py",
   "mimetype": "text/x-python",
   "name": "python",
   "nbconvert_exporter": "python",
   "pygments_lexer": "ipython3",
   "version": "3.7.4"
  }
 },
 "nbformat": 4,
 "nbformat_minor": 4
}

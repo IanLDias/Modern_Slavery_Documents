{
 "cells": [
  {
   "cell_type": "markdown",
   "metadata": {},
   "source": [
    "### Identifying risk factors for modern slavery\n",
    "\n",
    "- Looks at most common causes, locations and industries of slavery and if a company is at risk of engaging in these behaviours"
   ]
  },
  {
   "cell_type": "code",
   "execution_count": 93,
   "metadata": {},
   "outputs": [],
   "source": [
    "import pandas as pd\n",
    "import re\n",
    "import sys\n",
    "from pathlib import Path as pathl"
   ]
  },
  {
   "cell_type": "code",
   "execution_count": 147,
   "metadata": {},
   "outputs": [],
   "source": [
    "#append relevant file paths\n",
    "new_path = pathl('.')\n",
    "parent = new_path.resolve().parent\n",
    "sys.path.append(str(parent))\n",
    "data_path = parent / 'Data'"
   ]
  },
  {
   "cell_type": "code",
   "execution_count": 150,
   "metadata": {},
   "outputs": [
    {
     "data": {
      "text/html": [
       "<div>\n",
       "<style scoped>\n",
       "    .dataframe tbody tr th:only-of-type {\n",
       "        vertical-align: middle;\n",
       "    }\n",
       "\n",
       "    .dataframe tbody tr th {\n",
       "        vertical-align: top;\n",
       "    }\n",
       "\n",
       "    .dataframe thead th {\n",
       "        text-align: right;\n",
       "    }\n",
       "</style>\n",
       "<table border=\"1\" class=\"dataframe\">\n",
       "  <thead>\n",
       "    <tr style=\"text-align: right;\">\n",
       "      <th></th>\n",
       "      <th>country</th>\n",
       "      <th>prevalence</th>\n",
       "      <th>num_absolute</th>\n",
       "      <th>population</th>\n",
       "    </tr>\n",
       "  </thead>\n",
       "  <tbody>\n",
       "    <tr>\n",
       "      <th>1</th>\n",
       "      <td>North_Korea</td>\n",
       "      <td>104.6</td>\n",
       "      <td>2,640,000</td>\n",
       "      <td>25,244,000</td>\n",
       "    </tr>\n",
       "    <tr>\n",
       "      <th>2</th>\n",
       "      <td>Eritrea</td>\n",
       "      <td>93.0</td>\n",
       "      <td>451,000</td>\n",
       "      <td>4,847,000</td>\n",
       "    </tr>\n",
       "    <tr>\n",
       "      <th>3</th>\n",
       "      <td>Burundi</td>\n",
       "      <td>40.0</td>\n",
       "      <td>408,000</td>\n",
       "      <td>10,199,000</td>\n",
       "    </tr>\n",
       "    <tr>\n",
       "      <th>4</th>\n",
       "      <td>Central_African_Republic</td>\n",
       "      <td>22.3</td>\n",
       "      <td>101,000</td>\n",
       "      <td>4,546,000</td>\n",
       "    </tr>\n",
       "    <tr>\n",
       "      <th>5</th>\n",
       "      <td>Afghanistan</td>\n",
       "      <td>22.2</td>\n",
       "      <td>749,000</td>\n",
       "      <td>33,736,000</td>\n",
       "    </tr>\n",
       "  </tbody>\n",
       "</table>\n",
       "</div>"
      ],
      "text/plain": [
       "                    country prevalence num_absolute  population\n",
       "1               North_Korea      104.6    2,640,000  25,244,000\n",
       "2                   Eritrea       93.0      451,000   4,847,000\n",
       "3                   Burundi       40.0      408,000  10,199,000\n",
       "4  Central_African_Republic       22.3      101,000   4,546,000\n",
       "5               Afghanistan       22.2      749,000  33,736,000"
      ]
     },
     "execution_count": 150,
     "metadata": {},
     "output_type": "execute_result"
    }
   ],
   "source": [
    "# -------- 1 -----------\n",
    "#Prevalence of slavery by country\n",
    "#Sourced from https://downloads.globalslaveryindex.org/ephemeral/GSI-2018_FNL_190828_CO_DIGITAL_P-1617689913.pdf\n",
    "file_name = '/prevalence_data.csv'\n",
    "df = pd.read_csv(str(data_path)+file_name, error_bad_lines=False, header=None, sep=' ',\n",
    "                names=['country', 'prevalence', 'num_absolute', 'population'])\n",
    "df.head()"
   ]
  },
  {
   "cell_type": "markdown",
   "metadata": {},
   "source": [
    "- Use case: If production is in one of these high risk countries, add to risk factor"
   ]
  },
  {
   "cell_type": "code",
   "execution_count": null,
   "metadata": {},
   "outputs": [],
   "source": []
  }
 ],
 "metadata": {
  "kernelspec": {
   "display_name": "Python 3",
   "language": "python",
   "name": "python3"
  },
  "language_info": {
   "codemirror_mode": {
    "name": "ipython",
    "version": 3
   },
   "file_extension": ".py",
   "mimetype": "text/x-python",
   "name": "python",
   "nbconvert_exporter": "python",
   "pygments_lexer": "ipython3",
   "version": "3.7.4"
  }
 },
 "nbformat": 4,
 "nbformat_minor": 4
}

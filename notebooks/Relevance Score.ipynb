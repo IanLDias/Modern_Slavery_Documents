{
 "cells": [
  {
   "cell_type": "code",
   "execution_count": 2,
   "metadata": {},
   "outputs": [],
   "source": [
    "import spacy\n",
    "# Need to run !python -m spacy download en_core_web_sm\n",
    "from spacy.lang.en.stop_words import STOP_WORDS\n",
    "from string import punctuation"
   ]
  },
  {
   "cell_type": "code",
   "execution_count": 57,
   "metadata": {},
   "outputs": [],
   "source": [
    "from pathlib import Path as pathl\n",
    "import sys, os, re\n",
    "from heapq import nlargest"
   ]
  },
  {
   "cell_type": "code",
   "execution_count": 4,
   "metadata": {},
   "outputs": [],
   "source": [
    "#append relevant file paths\n",
    "new_path = pathl('.')\n",
    "parent = new_path.resolve().parent\n",
    "sys.path.append(str(parent))\n",
    "from pdf_parser import pipeline"
   ]
  },
  {
   "cell_type": "code",
   "execution_count": 71,
   "metadata": {},
   "outputs": [],
   "source": [
    "text = get_text('coke_1.pdf')"
   ]
  },
  {
   "cell_type": "code",
   "execution_count": 87,
   "metadata": {},
   "outputs": [],
   "source": [
    "text = text.split('.')"
   ]
  },
  {
   "cell_type": "code",
   "execution_count": 97,
   "metadata": {},
   "outputs": [],
   "source": [
    "docs = nlp.pipe(text)"
   ]
  },
  {
   "cell_type": "code",
   "execution_count": 98,
   "metadata": {},
   "outputs": [],
   "source": [
    "docs = list(docs)"
   ]
  },
  {
   "cell_type": "code",
   "execution_count": 133,
   "metadata": {},
   "outputs": [],
   "source": [
    "from spacy.tokens import Doc"
   ]
  },
  {
   "cell_type": "code",
   "execution_count": 134,
   "metadata": {},
   "outputs": [
    {
     "ename": "AttributeError",
     "evalue": "type object 'spacy.tokens.doc.Doc' has no attribute 'from_docs'",
     "output_type": "error",
     "traceback": [
      "\u001b[0;31m---------------------------------------------------------------------------\u001b[0m",
      "\u001b[0;31mAttributeError\u001b[0m                            Traceback (most recent call last)",
      "\u001b[0;32m<ipython-input-134-b8575c7a8c92>\u001b[0m in \u001b[0;36m<module>\u001b[0;34m\u001b[0m\n\u001b[0;32m----> 1\u001b[0;31m \u001b[0mDoc\u001b[0m\u001b[0;34m.\u001b[0m\u001b[0mfrom_docs\u001b[0m\u001b[0;34m(\u001b[0m\u001b[0mdocs\u001b[0m\u001b[0;34m)\u001b[0m\u001b[0;34m\u001b[0m\u001b[0;34m\u001b[0m\u001b[0m\n\u001b[0m",
      "\u001b[0;31mAttributeError\u001b[0m: type object 'spacy.tokens.doc.Doc' has no attribute 'from_docs'"
     ]
    }
   ],
   "source": [
    "Doc.from_docs(docs)"
   ]
  },
  {
   "cell_type": "code",
   "execution_count": null,
   "metadata": {},
   "outputs": [],
   "source": []
  },
  {
   "cell_type": "code",
   "execution_count": 5,
   "metadata": {},
   "outputs": [],
   "source": [
    "data_path = parent / 'Data'\n",
    "def get_text(filename):\n",
    "    'Return text from a filename'\n",
    "    pdf_file = data_path / filename\n",
    "    text_dict = pipeline(filepath = str(pdf_file))\n",
    "    text = list(text_dict.values())\n",
    "    text = sum(text, [])\n",
    "    text = [sentence.strip() for sentence in text]\n",
    "    text = ' '.join(text)\n",
    "    return text"
   ]
  },
  {
   "cell_type": "code",
   "execution_count": 6,
   "metadata": {},
   "outputs": [],
   "source": [
    "nlp = spacy.load('en_core_web_sm')\n",
    "punctuation = '!\"#$%&\\'()*+,-./:;<=>?@[\\]^_`{|}~\\n'\n",
    "def process_text(text):\n",
    "    '''Remove stopwords, punctuation and add the remaining to a dictionary with num occurances as values. \n",
    "    Returns word frequencies'''\n",
    "    doc = nlp(text)\n",
    "    tokens = [token.text for token in doc]\n",
    "    stopwords = list(STOP_WORDS)\n",
    "    word_frequencies = {}\n",
    "    for word in doc:\n",
    "        if word.text.lower() not in stopwords:\n",
    "            if word.text.lower() not in punctuation:\n",
    "                if word.text not in word_frequencies.keys():\n",
    "                    word_frequencies[word.text] = 1\n",
    "                else:\n",
    "                    word_frequencies[word.text] += 1\n",
    "                    \n",
    "    return word_frequencies"
   ]
  },
  {
   "cell_type": "code",
   "execution_count": 60,
   "metadata": {},
   "outputs": [],
   "source": [
    "#Check to see if last file path in sys is the root folder\n",
    "current_dir = os.walk(sys.path[-1] + '/Data')\n",
    "all_text = [] #Term frequency\n",
    "for file in next(current_dir)[-1]:\n",
    "    try:\n",
    "        text = get_text(file)\n",
    "        all_text.append(process_text(text))\n",
    "    except:\n",
    "        pass"
   ]
  },
  {
   "cell_type": "code",
   "execution_count": null,
   "metadata": {},
   "outputs": [],
   "source": []
  },
  {
   "cell_type": "code",
   "execution_count": 166,
   "metadata": {},
   "outputs": [],
   "source": [
    "def normalize(comment, lowercase=True, remove_stopwords=True):\n",
    "    if lowercase:\n",
    "        comment = comment.lower()\n",
    "    comment = nlp(comment)\n",
    "    lemmatized = list()\n",
    "    for word in comment:\n",
    "        lemma = word.lemma_.strip()\n",
    "        if lemma:\n",
    "            if not remove_stopwords or (remove_stopwords and lemma not in STOP_WORDS):\n",
    "                lemmatized.append(lemma)\n",
    "    return \" \".join(lemmatized)"
   ]
  },
  {
   "cell_type": "code",
   "execution_count": 237,
   "metadata": {},
   "outputs": [],
   "source": [
    "def normalize(text):\n",
    "    doc = nlp.pipe(text)\n",
    "    lemmatized = []\n",
    "    for sentence in doc:\n",
    "        sent = []\n",
    "        for word in sentence:\n",
    "            if str(word) in punctuation:\n",
    "                continue\n",
    "            lemma = word.lemma_.strip() \n",
    "            sent.append(lemma)\n",
    "        sent = ' '.join(sent)\n",
    "        lemmatized.append(sent)\n",
    "    return lemmatized"
   ]
  },
  {
   "cell_type": "code",
   "execution_count": 239,
   "metadata": {
    "scrolled": false
   },
   "outputs": [
    {
     "data": {
      "text/plain": [
       "['this statement have be publish in accordance with the Modern Slavery Act 2015',\n",
       " ' -PRON- set out the step take by Coca Cola European Partners plc and -PRON- group company CCEP in particular Coca Cola European Partners Great Britain Limited and Coca Cola European Partners Services Europe Limited during the year end 31 December 2018 to prevent modern slavery and human trafficking in -PRON- business and supply chain',\n",
       " ' -PRON- consider human and workplace right Ð as articulate in the United NationsÕ Universal Declaration of Human Rights and the International Labour OrganizationÕs Declaration on Fundamental Principles and Rights at work Ð to be inviolable',\n",
       " ' respect for human right be fundamental to the sustainability of CCEP and the community in which -PRON- operate',\n",
       " ' -PRON- be committed to ensure that all people be treat with dignity and respect',\n",
       " ' -PRON- support the 10 principle of the UN Global Compact and take a proactive approach to respect these right in -PRON- workplace in -PRON- supply chain and in the community in which -PRON- operate',\n",
       " ' -PRON- provide a safe and healthy workplace and comply with applicable health and safety law regulation and internal requirement',\n",
       " ' Slavery of any kind within -PRON- operation and supply chain',\n",
       " ' together with the Coca Cola Company -PRON- expressly prohibit any form of human trafficking within -PRON- system or by any company that directly supply or provide service to -PRON- business',\n",
       " ' -PRON- prohibit the use of all form of force labour include prison labour indenture labour bond labour military labour slave labour and any form of human trafficking within -PRON- company and by any company that directly supply or provide service to -PRON- business',\n",
       " ' CCEP be one of EuropeÕs lead consumer good company',\n",
       " ' -PRON- sell make and distribute drink to over 300 million consumer across 13 country in Western Europe',\n",
       " ' CCEP be form in May 2016 through a merger between the bottle operation of Coca Cola Enterprises Inc',\n",
       " 'Coca Cola Iberian Partners S',\n",
       " 'a',\n",
       " 'u',\n",
       " ' and Coca Cola Erfrischungsgetr−nke GmbH',\n",
       " ' CCEP have around 23,300 people service customer in one million outlet across 13 country in Western Europe',\n",
       " ' -PRON- be a european business and -PRON- invest employ manufacture and distribute locally maintain a strong commitment to the wellbeing of -PRON- community',\n",
       " ' -PRON- supply chain -PRON- supplier be critical partner for -PRON- business',\n",
       " ' -PRON- believe collaboration and innovation throughout -PRON- supply chain be essential in advance -PRON- sustainable growth',\n",
       " ' -PRON- source product from over 14,000 supplier and spend 5',\n",
       " '5 billion with -PRON- in 2018',\n",
       " ' -PRON- procurement cover commodity and service such as ingredient packaging energy capital equipment building and facility fleet and logistic sale and marketing it telecom general administration and professional service',\n",
       " ' on average 75',\n",
       " '5 of -PRON- spend be with supplier in -PRON- country of origin',\n",
       " ' -PRON- purchase the entire requirement of -PRON- concentrate and syrup for Coca Cola trademark beverage from the Coca Cola Company',\n",
       " ' many of the purchase of -PRON- key agricultural ingredient such as sugar and juice be do together with the Coca Cola Company and other Coca Cola bottler',\n",
       " ' as a result -PRON- address many of the issue that -PRON- face in -PRON- supply chain include that of Modern Slavery as a joint Coca Cola system',\n",
       " ' in particular in partnership with the Coca Cola Company -PRON- have develop Supplier Guiding Principles SGPs and sustainable Agriculture Guiding Principles SAGPs',\n",
       " ' -PRON- sgp and sagp apply to all of -PRON- supplier include for those non Coca Cola Company brand that -PRON- produce and distribute such as Capri Sun and -PRON- energy brand',\n",
       " ' Supplier Guiding Principles sgp -PRON- sgp which -PRON- work with supplier to build into all new contract outline minimum requirement for all of -PRON- supplier',\n",
       " ' -PRON- address the follow key area law and regulation Prohibit child labour force labour and abuse of labour Sustainable Agriculture Guiding Principles SAGPs develop in partnership with the Coca Cola Company -PRON- sagp cover the Coca Cola systemõs key agricultural ingredient and define the standard -PRON- expect -PRON- agricultural commodity supplier to adhere to in term of human and workplace right the environment and management system',\n",
       " ' amongst other these sagp cover the follow area human and workplace right  in 2017 -PRON- launch a joint sustainability strategy with the Coca Cola Company in Western Europe call this be forward',\n",
       " ' as part of this strategy -PRON- have make a commitment to ensure that 100 of -PRON- main agricultural ingredient and raw material come from sustainable source by 2020 and to continue to embed sustainability ethic and human right within -PRON- supply chain',\n",
       " ' -PRON- uphold -PRON- sustainability standard through -PRON- Human Rights Policy Code of Conduct CoC Supplier Guiding Principles and sustainable Agriculture Guiding Principles',\n",
       " ' -PRON- human right policy be align to that of the Coca Cola Company',\n",
       " ' -PRON- expressly prohibit the use of all form of child labour and force labour ð include prison labour indenture labour bond labour military labour slave labour and any form of human trafficking',\n",
       " ' the policy be guide by international human right principle encompass in the Universal Declaration of Human Rights the International Labour OrganisationÕs Declaration on Fundamental Principles and Rights at Work the United Nations Global Compact and the United Nations Guiding Principles on Business and Human Rights',\n",
       " ' the policy provide a consistent approach to workplace right worldwide and embed -PRON- as an integral part of -PRON- culture strategy and day to day operation',\n",
       " ' -PRON- Ethics Compliance Programme ensure -PRON- be conduct -PRON- operation in a lawful and ethical manner',\n",
       " ' the Programme be oversee by -PRON- Audit Committee and be applicable to all employee -PRON- officer and -PRON- director',\n",
       " ' -PRON- also support how -PRON- work with -PRON- customer supplier and third party',\n",
       " ' as of 31 December 2018 the new Code of Conduct CoC have be formally adopt in all the territory in which -PRON- operate as well as -PRON- shared service centre in Bulgaria',\n",
       " ' -PRON- coc ensure that -PRON- act with integrity and accountability in all of -PRON- business dealing and relationship in compliance with all applicable law regulation and policy',\n",
       " ' -PRON- align with the UN Global Compact the US Foreign Corrupt Practices Act the UK Bribery Act the 2016 and 2018 UK Corporate Governance Codes the EU General Data Protection Regulation the spanish and portuguese Criminal Codes and Sapin II',\n",
       " ' -PRON- expect everyone work at CCEP to adhere to the CoC',\n",
       " ' -PRON- also expect all third party who work on -PRON- behalf such as supplier vendor contractor consultant distributor and agent to act in an ethical manner consistent with -PRON- CoC and in compliance with -PRON- Supplier Guiding Principles',\n",
       " ' -PRON- receive no fine for CoC breach in 2018',\n",
       " ' breach of the Code by type can be find in -PRON- 2018 Integrated Report',\n",
       " ' follow the launch of the CoC in each country employee be provide with easy access to the CoC through -PRON- internal and external website',\n",
       " ' -PRON- also include the update CoC in -PRON- new Code of Conduct training and where appropriate a hard copy of -PRON- coc be provide',\n",
       " ' all employee be require to complete the CoC training include as part of the induction process for new employee',\n",
       " ' this be assign to 16,000 employee in 2018 and in 2019 the training will be assign to an additional 7,665 employee',\n",
       " ' training on specific topic relate to -PRON- role be also provide where need',\n",
       " ' all people manager have access to a  -PRON- sgp be align with those of the Coca Cola system',\n",
       " ' these set out the minimum requirement -PRON- expect of -PRON- supplier in area such as workplace policy and practice health and safety human right environmental protection and business integrity',\n",
       " ' these sgp reflect -PRON- commitment to respect human right across -PRON- business system and global supply chain',\n",
       " ' -PRON- work with supplier to build sgp into all new contract and into multi year contract as -PRON- renew',\n",
       " ' in addition -PRON- have amend -PRON- standard supplier contract to include specific anti slavery obligation on supplier include the express undertaking that neither the supplier nor any other person in -PRON- supply chain use or have attempt to use traffic bond child or force labour',\n",
       " ' any breach of this undertaking enable CCEP to immediately terminate the supply agreement',\n",
       " ' all procurement manager work directly with supplier be provide with training include on -PRON- sgp when -PRON- begin -PRON- role and this information be refresh on a regular basis',\n",
       " ' sustainable Agriculture Guiding Principles SAGPs develop in partnership with the Coca Cola Company -PRON- sagp cover the Coca Cola systemõs key agricultural ingredient and define the standard -PRON- expect -PRON- agricultural ingredient supplier to adhere to in term of human and workplace right ð include prohibition on modern slavery and child labour the environment and management system',\n",
       " ' -PRON- apply these common sagp to the key agricultural ingredient that -PRON- purchase Ð this include beet and cane sugar pulp and paper orange apple and lemon juice as well as tea and coffee',\n",
       " ' procurement manager work directly with agricultural ingredient supplier be provide with training on -PRON- sagp when -PRON- begin -PRON- role and this information be refresh on a regular basis',\n",
       " ' Audit process -PRON- expect -PRON- supplier to develop and implement appropriate internal business process to ensure compliance with the sgp',\n",
       " ' as part of the Coca Cola system -PRON- have rely on independent audits commission by the Coca Cola Company to monitor supplier compliance with the sgp',\n",
       " ' the assessment generally include confidential interview with employee and on site contract worker',\n",
       " ' these audit include check that supplier be not use child labour force labour or any form of modern slavery amongst the other cover area of -PRON- sgp',\n",
       " ' in 2018 95 of -PRON- packaging and ingredient supplier be cover by SGP audits',\n",
       " '']"
      ]
     },
     "execution_count": 239,
     "metadata": {},
     "output_type": "execute_result"
    }
   ],
   "source": [
    "normalize(text)"
   ]
  },
  {
   "cell_type": "code",
   "execution_count": 167,
   "metadata": {},
   "outputs": [],
   "source": [
    "normalized_text = [normalize(sentence) for sentence in text]\n",
    "    "
   ]
  },
  {
   "cell_type": "code",
   "execution_count": 154,
   "metadata": {
    "scrolled": false
   },
   "outputs": [
    {
     "data": {
      "text/plain": [
       "'! statement publish accordance modern slavery act 2015'"
      ]
     },
     "execution_count": 154,
     "metadata": {},
     "output_type": "execute_result"
    }
   ],
   "source": [
    "normalized_text[0]"
   ]
  },
  {
   "cell_type": "code",
   "execution_count": null,
   "metadata": {},
   "outputs": [],
   "source": []
  }
 ],
 "metadata": {
  "kernelspec": {
   "display_name": "Python 3",
   "language": "python",
   "name": "python3"
  },
  "language_info": {
   "codemirror_mode": {
    "name": "ipython",
    "version": 3
   },
   "file_extension": ".py",
   "mimetype": "text/x-python",
   "name": "python",
   "nbconvert_exporter": "python",
   "pygments_lexer": "ipython3",
   "version": "3.7.4"
  }
 },
 "nbformat": 4,
 "nbformat_minor": 2
}

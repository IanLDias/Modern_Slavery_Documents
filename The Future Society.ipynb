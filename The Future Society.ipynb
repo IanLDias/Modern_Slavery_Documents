{
 "cells": [
  {
   "cell_type": "markdown",
   "metadata": {},
   "source": [
    "### Questions to ask\n",
    "\n",
    "#### General questions\n",
    "\n",
    "1) What past research has been done on these companies? Is there a valid source with its history towards slavery? Can we make a metric out of this?\n",
    "\n",
    "2) Which businesses have a higher risk of slavery exploitation? Look at specific industry and as well locations\n",
    "\n",
    "#### Relevant to the slavery statments\n",
    "\n",
    "1) What does the slavery statement focus on?\n",
    "\n",
    "- Can do something simple and get TF-IDFs for each document. This will give the frequency of word counts for each document and how that relates to the other documents. Gives a broader picture of what the document is about. If a document deviates from the norm, this could raise questions. \n",
    "\n",
    "2) How effectively do they respond to the standard and practices required? Is the information relevant?\n",
    "\n",
    "- Can use the above to also answer this question.\n",
    "\n",
    "3) Do they focus on future goals or things that they've already done?\n",
    "\n",
    "- Can use a simple regex script to find tense. Can also use Named Entity Recognition to find more complex associations."
   ]
  },
  {
   "cell_type": "markdown",
   "metadata": {},
   "source": [
    "### The code at the bottom processes the PDFs given and saves it as a JSON file. The Keys are the titles in the documents and the values are the words between the titles. Can be saved in a NoSQL database.\n",
    "\n"
   ]
  },
  {
   "cell_type": "markdown",
   "metadata": {},
   "source": [
    "### Test method 1. Using OCR to parse a pdf file."
   ]
  },
  {
   "cell_type": "code",
   "execution_count": 184,
   "metadata": {},
   "outputs": [],
   "source": [
    "import pytesseract\n",
    "from wand.image import Image\n",
    "import os"
   ]
  },
  {
   "cell_type": "code",
   "execution_count": 187,
   "metadata": {},
   "outputs": [],
   "source": [
    "pdf_file = 'Data/coke_1.pdf'"
   ]
  },
  {
   "cell_type": "code",
   "execution_count": null,
   "metadata": {},
   "outputs": [],
   "source": [
    "## Can open the file with \n",
    "# import urllib\n",
    "# url = 'www.---.pdf'\n",
    "# user_agent = 'Mozilla/5.0 (Windows; U; Windows NT 5.1; en-US; rv:1.9.0.7) Gecko/2009021910 Firefox/3.0.7'\n",
    "# headers={'User-Agent':user_agent,} \n",
    "# request = urllib.request.Request(url, None, headers)\n",
    "# response = urllib.request.urlopen(request)\n",
    "\n",
    "#Chose to download them instead"
   ]
  },
  {
   "cell_type": "code",
   "execution_count": 178,
   "metadata": {},
   "outputs": [
    {
     "name": "stdout",
     "output_type": "stream",
     "text": [
      "CPU times: user 1min 10s, sys: 22.2 s, total: 1min 32s\n",
      "Wall time: 1min 34s\n"
     ]
    }
   ],
   "source": [
    "%%time\n",
    "#Converts all the pdf pages to pngs. Need this input (files) for pytesseract\n",
    "files = []\n",
    "with(Image(filename=pdf_file, resolution = 500)) as conn: \n",
    "    for index, image in enumerate(conn.sequence):\n",
    "        image_name = os.path.splitext(pdf_file)[0] + str(index + 1) + '.png'\n",
    "        Image(image).save(filename = image_name)\n",
    "        files.append(image_name)"
   ]
  },
  {
   "cell_type": "code",
   "execution_count": 179,
   "metadata": {},
   "outputs": [],
   "source": [
    "#wand image doesn't recognise PNG. Need to debug, using PIL as placeholder\n",
    "from PIL import Image"
   ]
  },
  {
   "cell_type": "code",
   "execution_count": 180,
   "metadata": {},
   "outputs": [
    {
     "name": "stdout",
     "output_type": "stream",
     "text": [
      "CPU times: user 4.99 s, sys: 377 ms, total: 5.37 s\n",
      "Wall time: 1min 13s\n"
     ]
    }
   ],
   "source": [
    "#Reading all the pngs created with pytesseract\n",
    "%%time\n",
    "all_text = [pytesseract.image_to_string(Image.open(file)) for file in files]"
   ]
  },
  {
   "cell_type": "code",
   "execution_count": 190,
   "metadata": {
    "scrolled": true
   },
   "outputs": [
    {
     "name": "stdout",
     "output_type": "stream",
     "text": [
      "COU oly\n",
      "\n",
      "EUROPEAN PARTNERS\n",
      "\n",
      "Modern Slavery Statement 2018\n",
      "\n",
      "This statement has been published in accordance with the Modern Slavery Act 2015.\n",
      "It sets out the steps taken by Coca-Cola European Partners plc and its group\n",
      "companies (CCEP), in particular Coca-Cola European Partners Great Britain Limited\n",
      "and Coca-Cola European Partners Services Europe Limited, during the year ending 31\n",
      "December 2018 to prevent modern slavery and human trafficking in our business and\n",
      "\n",
      "supply chain.\n",
      "\n",
      "Coca-Cola European\n",
      "Partners is one of Europe's\n",
      "\n",
      "LEADING CONSUMER\n",
      "GOODS COMPANIES.\n",
      "\n",
      "We sell, make and\n",
      "distribute drinks to over\n",
      "\n",
      "300m\n",
      "\n",
      "CONSUMERS\n",
      "\n",
      "13\n",
      "\n",
      "COUNTRIES IN\n",
      "WESTERN EUROPE\n",
      "\n",
      "— APPROXIMATELY —\n",
      "\n",
      "23,300\n",
      "\n",
      "EMPLOYEES\n",
      "\n",
      "aT\n",
      "\n",
      "SUPPLIERS ACROSS\n",
      "OUR MARKETS\n",
      "\n",
      "2. Dbn\n",
      "\n",
      "UNIT CASES SOLD\n",
      "IN 2018\n",
      "\n",
      "Introduction\n",
      "\n",
      "We consider human and workplace rights — as\n",
      "articulated in the United Nations’ Universal\n",
      "Declaration of Human Rights, and the International\n",
      "Labour Organization's Declaration on Fundamental\n",
      "Principles and Rights at Work — to be inviolable.\n",
      "Respect for human rights is fundamental to the\n",
      "sustainability of CCEP and the communities in which\n",
      "we operate. We are committed to ensuring that all\n",
      "people are treated with dignity and respect.\n",
      "\n",
      "We support the 10 principles of the UN Global\n",
      "Compact, and take a proactive approach to respecting\n",
      "these rights in our workplace, in our supply chain, and\n",
      "in the communities in which we operate. We provide a\n",
      "safe and healthy workplace and comply with\n",
      "applicable health and safety laws, regulations and\n",
      "internal requirements.\n",
      "\n",
      "We have a zero-tolerance approach to Modern\n",
      "Slavery of any kind within our operations and supply\n",
      "chain. Together with The Coca-Cola Company we\n",
      "expressly prohibit any form of human trafficking within\n",
      "our system or by any company that directly supplies\n",
      "or provides services to our business. We prohibit the\n",
      "use of all forms of forced labour, including prison\n",
      "labour, indentured labour, bonded labour, military\n",
      "labour, slave labour and any form of human trafficking\n",
      "within our company and by any company that directly\n",
      "supplies or provides services to our business.\n",
      "\f",
      "\n"
     ]
    }
   ],
   "source": [
    "#Example of first page\n",
    "print(all_text[0])"
   ]
  },
  {
   "cell_type": "markdown",
   "metadata": {},
   "source": [
    "#### Comments\n",
    "- Gives more detailed answers but would take too long for more PDFs\n",
    "- Not recommended, took about 3 minutes for one PDF, but can be optimized further and completed on a better CPU (AWS/GCP). Can be useful."
   ]
  },
  {
   "cell_type": "markdown",
   "metadata": {},
   "source": [
    "### Test method 2: Parsing the pdf file directly\n"
   ]
  },
  {
   "cell_type": "markdown",
   "metadata": {},
   "source": [
    "#### Trying different libraries\n",
    "##### - textract"
   ]
  },
  {
   "cell_type": "code",
   "execution_count": null,
   "metadata": {},
   "outputs": [],
   "source": [
    "import textract"
   ]
  },
  {
   "cell_type": "code",
   "execution_count": 199,
   "metadata": {},
   "outputs": [
    {
     "name": "stdout",
     "output_type": "stream",
     "text": [
      "CPU times: user 146 ms, sys: 10.5 ms, total: 156 ms\n",
      "Wall time: 253 ms\n"
     ]
    }
   ],
   "source": [
    "%%time\n",
    "text = textract.process('coke_1.pdf', encoding='ascii')\n",
    "text = str(text)\n",
    "text = text.replace('\\\\n', ' ')"
   ]
  },
  {
   "cell_type": "code",
   "execution_count": 549,
   "metadata": {
    "scrolled": false
   },
   "outputs": [
    {
     "data": {
      "text/plain": [
       "'b\"Modern Slavery Statement 2018 This statement has been published in accordance with the Modern Slavery Act 2015. It sets out the steps taken by Coca-Cola European Partners plc and its group companies (CCEP), in particular Coca-Cola European Partners Great Britain Limited and Coca-Cola European Partners Services Europe Limited, during the year ending 31 December 2018 to prevent modern slavery and human trafficking in our business and supply chain. Introduction We consider human and workplace rights  as articulated in the United Nations Universal Declaration of Human Rights, and the International Labour Organizations Declaration on Fundamental Principles and Rights at Work  to be inviolable. Respect for human rights is fundamental to the sustainability of CCEP and the communities in which we operate. We are committed to ensuring that all people are treated with dignity and respect. We support the 10 principles of the UN Global Compact, and take a proactive approach to respecting these r'"
      ]
     },
     "execution_count": 549,
     "metadata": {},
     "output_type": "execute_result"
    }
   ],
   "source": [
    "text[:1000]"
   ]
  },
  {
   "cell_type": "markdown",
   "metadata": {},
   "source": [
    "#### Comments\n",
    "- Exactly what's expected, gets the text from a pdf\n",
    "- Doesn't retain structure"
   ]
  },
  {
   "cell_type": "markdown",
   "metadata": {},
   "source": [
    "##### - PyPDF2"
   ]
  },
  {
   "cell_type": "code",
   "execution_count": 224,
   "metadata": {},
   "outputs": [],
   "source": [
    "import PyPDF2 \n",
    "import re\n",
    "import pandas as pd"
   ]
  },
  {
   "cell_type": "code",
   "execution_count": 206,
   "metadata": {},
   "outputs": [],
   "source": [
    "pdffile = open('coke_1.pdf', 'rb')\n",
    "pdfreader = PyPDF2.PdfFileReader(pdffile)\n",
    "# first_page = pdfreader.getPage(0).extractText()\n",
    "# first_page = first_page.split('\\n')"
   ]
  },
  {
   "cell_type": "code",
   "execution_count": 327,
   "metadata": {},
   "outputs": [],
   "source": [
    "num_pages = pdfreader.getNumPages()\n",
    "#Get it in text format and split by \\n\n",
    "pages = [pdfreader.getPage(i).extractText().split('\\n') for i in range(num_pages)]"
   ]
  },
  {
   "cell_type": "code",
   "execution_count": 521,
   "metadata": {},
   "outputs": [],
   "source": [
    "#Remove !!'s around the titles'\n",
    "#Make into a dataframe for easier manipulation\n",
    "pattern = '(![ ]*)|[   ][A-Z]'\n",
    "r = re.compile(pattern)\n",
    "titles = []\n",
    "for page_num, page in enumerate(pages):\n",
    "    for line_num, line in enumerate(page):\n",
    "        if r.match(line):\n",
    "            if len(line.split()) < 8:\n",
    "                line = re.sub(r'!|#|\"|$|&|%', '', line)\n",
    "                line = line.strip()\n",
    "                titles.append((page_num, line_num,line))\n",
    "titles = pd.DataFrame(titles, columns=['page_number', 'line_number', 'title'])"
   ]
  },
  {
   "cell_type": "code",
   "execution_count": 522,
   "metadata": {},
   "outputs": [
    {
     "data": {
      "text/html": [
       "<div>\n",
       "<style scoped>\n",
       "    .dataframe tbody tr th:only-of-type {\n",
       "        vertical-align: middle;\n",
       "    }\n",
       "\n",
       "    .dataframe tbody tr th {\n",
       "        vertical-align: top;\n",
       "    }\n",
       "\n",
       "    .dataframe thead th {\n",
       "        text-align: right;\n",
       "    }\n",
       "</style>\n",
       "<table border=\"1\" class=\"dataframe\">\n",
       "  <thead>\n",
       "    <tr style=\"text-align: right;\">\n",
       "      <th></th>\n",
       "      <th>page_number</th>\n",
       "      <th>line_number</th>\n",
       "      <th>title</th>\n",
       "    </tr>\n",
       "  </thead>\n",
       "  <tbody>\n",
       "    <tr>\n",
       "      <th>0</th>\n",
       "      <td>0</td>\n",
       "      <td>0</td>\n",
       "      <td>Modern Slavery Statement 2018</td>\n",
       "    </tr>\n",
       "    <tr>\n",
       "      <th>1</th>\n",
       "      <td>0</td>\n",
       "      <td>7</td>\n",
       "      <td>Introduction</td>\n",
       "    </tr>\n",
       "    <tr>\n",
       "      <th>2</th>\n",
       "      <td>0</td>\n",
       "      <td>24</td>\n",
       "      <td>We have a zero-tolerance approach to Modern</td>\n",
       "    </tr>\n",
       "    <tr>\n",
       "      <th>3</th>\n",
       "      <td>1</td>\n",
       "      <td>0</td>\n",
       "      <td>Our business</td>\n",
       "    </tr>\n",
       "    <tr>\n",
       "      <th>4</th>\n",
       "      <td>1</td>\n",
       "      <td>33</td>\n",
       "      <td>Child labour</td>\n",
       "    </tr>\n",
       "    <tr>\n",
       "      <th>5</th>\n",
       "      <td>1</td>\n",
       "      <td>34</td>\n",
       "      <td>Forced labour</td>\n",
       "    </tr>\n",
       "    <tr>\n",
       "      <th>6</th>\n",
       "      <td>1</td>\n",
       "      <td>35</td>\n",
       "      <td>Freedom of association and collective bargaining</td>\n",
       "    </tr>\n",
       "    <tr>\n",
       "      <th>7</th>\n",
       "      <td>1</td>\n",
       "      <td>36</td>\n",
       "      <td>Abuse of labour</td>\n",
       "    </tr>\n",
       "    <tr>\n",
       "      <th>8</th>\n",
       "      <td>1</td>\n",
       "      <td>37</td>\n",
       "      <td>Discrimination</td>\n",
       "    </tr>\n",
       "    <tr>\n",
       "      <th>9</th>\n",
       "      <td>1</td>\n",
       "      <td>38</td>\n",
       "      <td>Wages and benefits</td>\n",
       "    </tr>\n",
       "    <tr>\n",
       "      <th>10</th>\n",
       "      <td>1</td>\n",
       "      <td>39</td>\n",
       "      <td>Work hours and overtime</td>\n",
       "    </tr>\n",
       "    <tr>\n",
       "      <th>11</th>\n",
       "      <td>1</td>\n",
       "      <td>40</td>\n",
       "      <td>Health and safety</td>\n",
       "    </tr>\n",
       "    <tr>\n",
       "      <th>12</th>\n",
       "      <td>1</td>\n",
       "      <td>41</td>\n",
       "      <td>Environment</td>\n",
       "    </tr>\n",
       "    <tr>\n",
       "      <th>13</th>\n",
       "      <td>1</td>\n",
       "      <td>42</td>\n",
       "      <td>Demonstration of compliance</td>\n",
       "    </tr>\n",
       "    <tr>\n",
       "      <th>14</th>\n",
       "      <td>1</td>\n",
       "      <td>52</td>\n",
       "      <td>Freedom of association and collective bargaining</td>\n",
       "    </tr>\n",
       "    <tr>\n",
       "      <th>15</th>\n",
       "      <td>1</td>\n",
       "      <td>54</td>\n",
       "      <td>Eliminate discrimination</td>\n",
       "    </tr>\n",
       "    <tr>\n",
       "      <th>16</th>\n",
       "      <td>1</td>\n",
       "      <td>55</td>\n",
       "      <td>Work hours and wages</td>\n",
       "    </tr>\n",
       "    <tr>\n",
       "      <th>17</th>\n",
       "      <td>1</td>\n",
       "      <td>56</td>\n",
       "      <td>Safe and healthy workplace</td>\n",
       "    </tr>\n",
       "    <tr>\n",
       "      <th>18</th>\n",
       "      <td>1</td>\n",
       "      <td>57</td>\n",
       "      <td>Community and traditional rights</td>\n",
       "    </tr>\n",
       "    <tr>\n",
       "      <th>19</th>\n",
       "      <td>2</td>\n",
       "      <td>0</td>\n",
       "      <td>$Policies</td>\n",
       "    </tr>\n",
       "    <tr>\n",
       "      <th>20</th>\n",
       "      <td>2</td>\n",
       "      <td>8</td>\n",
       "      <td>Human Rights Policy</td>\n",
       "    </tr>\n",
       "    <tr>\n",
       "      <th>21</th>\n",
       "      <td>2</td>\n",
       "      <td>18</td>\n",
       "      <td>Code of Conduct (CoC)</td>\n",
       "    </tr>\n",
       "    <tr>\n",
       "      <th>22</th>\n",
       "      <td>3</td>\n",
       "      <td>14</td>\n",
       "      <td>Supplier Guiding Principles (SGPs)</td>\n",
       "    </tr>\n",
       "    <tr>\n",
       "      <th>23</th>\n",
       "      <td>7</td>\n",
       "      <td>10</td>\n",
       "      <td>May 2019</td>\n",
       "    </tr>\n",
       "  </tbody>\n",
       "</table>\n",
       "</div>"
      ],
      "text/plain": [
       "    page_number  line_number                                             title\n",
       "0             0            0                     Modern Slavery Statement 2018\n",
       "1             0            7                                      Introduction\n",
       "2             0           24       We have a zero-tolerance approach to Modern\n",
       "3             1            0                                      Our business\n",
       "4             1           33                                      Child labour\n",
       "5             1           34                                     Forced labour\n",
       "6             1           35  Freedom of association and collective bargaining\n",
       "7             1           36                                   Abuse of labour\n",
       "8             1           37                                    Discrimination\n",
       "9             1           38                                Wages and benefits\n",
       "10            1           39                           Work hours and overtime\n",
       "11            1           40                                 Health and safety\n",
       "12            1           41                                       Environment\n",
       "13            1           42                       Demonstration of compliance\n",
       "14            1           52  Freedom of association and collective bargaining\n",
       "15            1           54                          Eliminate discrimination\n",
       "16            1           55                              Work hours and wages\n",
       "17            1           56                        Safe and healthy workplace\n",
       "18            1           57                  Community and traditional rights\n",
       "19            2            0                                         $Policies\n",
       "20            2            8                               Human Rights Policy\n",
       "21            2           18                             Code of Conduct (CoC)\n",
       "22            3           14                Supplier Guiding Principles (SGPs)\n",
       "23            7           10                                          May 2019"
      ]
     },
     "execution_count": 522,
     "metadata": {},
     "output_type": "execute_result"
    }
   ],
   "source": [
    "titles"
   ]
  },
  {
   "cell_type": "code",
   "execution_count": 525,
   "metadata": {},
   "outputs": [],
   "source": [
    "#Making a dictionary out of the titles\n",
    "#Titles are keys and the text are the values\n",
    "segments = {}\n",
    "for i in range(1,len(titles)):\n",
    "    if titles['page_number'][i-1] == titles['page_number'][i]:\n",
    "        segments[titles['title'][i-1]] = pages[titles['page_number'][i-1]][titles['line_number'][i-1]+1:titles['line_number'][i]]\n",
    "        continue\n",
    "    segments[titles['title'][i-1]] = pages[titles['page_number'][i-1]][titles['line_number'][i-1]+1:]"
   ]
  },
  {
   "cell_type": "markdown",
   "metadata": {},
   "source": [
    "### Comments\n",
    "\n",
    "- PyPDF is by far the best\n",
    "\n",
    "- The data is now in a format where it's sorted by title\n",
    "- No data is missing as the text in between each title is saved under the previous title and the last title contains the remaining text\n",
    "\n",
    "##### Data is saved as a dictionary (JSON). NoSQL might be the best database for it."
   ]
  },
  {
   "cell_type": "code",
   "execution_count": 526,
   "metadata": {},
   "outputs": [
    {
     "data": {
      "text/plain": [
       "{'Modern Slavery Statement 2018': [' !This statement has been published in accordance with the Modern Slavery Act 2015.  ',\n",
       "  'It sets out the steps taken by Coca-Cola European Partners plc and its group ',\n",
       "  'companies (CCEP), in particular Coca-Cola European Partners Great Britain Limited ',\n",
       "  'and Coca-Cola European Partners Services Europe Limited, during the year ending 31 ',\n",
       "  'December 2018 to prevent modern slavery and human trafficking in our business and ',\n",
       "  'supply chain.'],\n",
       " 'Introduction': [' We consider human and workplace rights Ð as ',\n",
       "  'articulated in the United NationsÕ Universal ',\n",
       "  'Declaration of Human Rights, and the International ',\n",
       "  'Labour OrganizationÕs Declaration on Fundamental ',\n",
       "  'Principles and Rights at Work Ð to be inviolable.  ',\n",
       "  'Respect for human rights is fundamental to the ',\n",
       "  'sustainability of CCEP and the communities in which ',\n",
       "  'we operate. We are committed to ensuring that all ',\n",
       "  'people are treated with dignity and respect.   ',\n",
       "  ' We support the 10 principles of the UN Global ',\n",
       "  'Compact, and take a proactive approach to respecting ',\n",
       "  'these rights in our workplace, in our supply chain, and ',\n",
       "  'in the communities in which we operate. We provide a ',\n",
       "  'safe and healthy workplace and comply with ',\n",
       "  'applicable health and safety laws, regulations and ',\n",
       "  'internal requirements.   '],\n",
       " 'We have a zero-tolerance approach to Modern': ['Slavery of any kind within our operations and supply ',\n",
       "  'chain. Together with The Coca-Cola Company we ',\n",
       "  'expressly prohibit any form of human trafficking within ',\n",
       "  'our system or by any company that directly supplies ',\n",
       "  'or provides services to our business.  We prohibit the ',\n",
       "  'use of all forms of forced labour, including prison ',\n",
       "  'labour, indentured labour, bonded labour, military ',\n",
       "  'labour, slave labour and any form of human trafficking ',\n",
       "  'within our company and by any company that directly ',\n",
       "  'supplies or provides services to our business. ',\n",
       "  '    '],\n",
       " 'Our business': [' CCEP is one of EuropeÕs leading consumer goods companies. We sell, make and distribute ',\n",
       "  'drinks to over 300 million consumers, across 13 countries in Western Europe. CCEP was ',\n",
       "  'formed in May 2016 through a merger between the bottling operations of Coca-Cola ',\n",
       "  'Enterprises, Inc., Coca-Cola Iberian Partners S.A.U. and Coca-Cola Erfrischungsgetr−nke ',\n",
       "  'GmbH.   ',\n",
       "  ' CCEP has around 23,300 people servicing customers in one million outlets across 13 ',\n",
       "  'countries in Western Europe. We are a European business and we invest, employ, ',\n",
       "  'manufacture and distribute locally, maintaining a strong commitment to the wellbeing of our ',\n",
       "  'communities. ',\n",
       "  '  Our supply chain',\n",
       "  ' Our suppliers are critical partners for our business. We believe collaboration and innovation ',\n",
       "  'throughout our supply chain are essential in advancing our sustainable growth. We source ',\n",
       "  'products from over 14,000 suppliers, and spent ',\n",
       "  '5.5 billion with them in 2018.  ',\n",
       "  ' Our procurement covers commodities and services such as ingredients, packaging, energy, ',\n",
       "  'capital equipment, building and facilities, fleet and logistics, sales and marketing, IT, ',\n",
       "  'telecoms, general administration and professional services. On average, 75.5% of our spend ',\n",
       "  'is with suppliers in our countries of origin. ',\n",
       "  ' We purchase the entire requirement of our concentrates and syrups for Coca-Cola trademark ',\n",
       "  'beverages from The Coca-Cola Company. Many of the purchases of our key agricultural ',\n",
       "  'ingredients, such as sugar and juices, are done together with The Coca-Cola Company, and ',\n",
       "  'other Coca-Cola bottlers. As a result, we address many of the issues that we face in our ',\n",
       "  'supply chain, including that of Modern Slavery, as a joint Coca-Cola system. In particular, in ',\n",
       "  'partnership with The Coca-Cola Company, we have developed Supplier Guiding Principles ',\n",
       "  '(SGPs) and Sustainable Agriculture Guiding Principles (SAGPs). Our SGPs and SAGPs ',\n",
       "  'apply to all of our suppliers, including for those non-Coca-Cola Company brands that we ',\n",
       "  'produce and distribute, such as Capri-Sun and our energy brands.  ',\n",
       "  '  Supplier Guiding Principles (SGPs) ',\n",
       "  ' Our SGPs, which we work with suppliers to build into all new ',\n",
       "  'contracts, outline minimum requirements for all of our ',\n",
       "  'suppliers. They address the following key areas:  ',\n",
       "  '  Laws and regulations '],\n",
       " 'Child labour': [],\n",
       " 'Forced labour': [],\n",
       " 'Freedom of association and collective bargaining': [' Prohibit child labour, forced labour and abuse of labour '],\n",
       " 'Abuse of labour': [],\n",
       " 'Discrimination': [],\n",
       " 'Wages and benefits': [],\n",
       " 'Work hours and overtime': [],\n",
       " 'Health and safety': [],\n",
       " 'Environment': [],\n",
       " 'Demonstration of compliance': ['   Sustainable Agriculture Guiding Principles (SAGPs) ',\n",
       "  ' Developed in partnership with The Coca-Cola Company, our ',\n",
       "  'SAGPs cover the Coca-Cola systemÕs key agricultural ',\n",
       "  'ingredients, and define the standards we expect our ',\n",
       "  'agricultural commodity suppliers to adhere to in terms of ',\n",
       "  'human and workplace rights, the environment, and ',\n",
       "  'management systems. Amongst others, these SAGPs cover ',\n",
       "  'the following areas:  ',\n",
       "  '  Human and workplace rights '],\n",
       " 'Eliminate discrimination': [],\n",
       " 'Work hours and wages': [],\n",
       " 'Safe and healthy workplace': [],\n",
       " 'Community and traditional rights': ['     '],\n",
       " '$Policies': ['In 2017, we launched a joint sustainability strategy with The Coca-Cola Company in Western ',\n",
       "  'Europe, called This is Forward.  As part of this strategy, we have made a commitment to ',\n",
       "  'ensure that 100% of our main agricultural ingredients and raw materials come from ',\n",
       "  'sustainable sources by 2020, and to continue to embed sustainability, ethics and human ',\n",
       "  'rights within our supply chain.  ',\n",
       "  ' We uphold our sustainability standards through our Human Rights Policy, Code of Conduct ',\n",
       "  '(CoC), Supplier Guiding Principles, and Sustainable Agriculture Guiding Principles.   '],\n",
       " 'Human Rights Policy': ['Our human rights policy is aligned to that of The Coca-Cola Company. It expressly prohibits ',\n",
       "  'the use of all forms of child labour and forced labour Ð including prison labour, indentured ',\n",
       "  'labour, bonded labour, military labour, slave labour and any form of human trafficking.  The ',\n",
       "  'policy is guided by international human rights principles encompassed in the Universal ',\n",
       "  'Declaration of Human Rights, the International Labour OrganisationÕs Declaration on ',\n",
       "  'Fundamental Principles and Rights at Work, the United Nations Global Compact and the ',\n",
       "  'United Nations Guiding Principles on Business and Human Rights. The policy provides a ',\n",
       "  'consistent approach to workplace rights worldwide and embeds it as an integral part of our ',\n",
       "  'culture, strategy and day-to-day operations. '],\n",
       " 'Code of Conduct (CoC)': ['Our Ethics & Compliance Programme ensures we are conducting our operations in a lawful ',\n",
       "  'and ethical manner.  The Programme is overseen by our Audit Committee, and is applicable ',\n",
       "  'to all employees, our officers and our Directors. It also supports how we work with our ',\n",
       "  'customers, suppliers and third parties.  As of 31 December 2018, the new Code of Conduct ',\n",
       "  '(CoC) has been formally adopted in all the territories in which we operate, as well as our ',\n",
       "  'shared service centre in Bulgaria.  Our CoC ensures that we act with integrity and ',\n",
       "  'accountability in all of our business dealings and relationships, in compliance with all ',\n",
       "  'applicable laws, regulations and policies. It aligns with the UN Global Compact, the US ',\n",
       "  'Foreign Corrupt Practices Act, the UK Bribery Act, the 2016 and 2018 UK Corporate ',\n",
       "  'Governance Codes, The EU General Data Protection Regulation, the Spanish and ',\n",
       "  'Portuguese Criminal Codes and Sapin II.  ',\n",
       "  ' We expect everyone working at CCEP to adhere to the CoC.  We also expect all third parties ',\n",
       "  'who work on our behalf, such as suppliers, vendors, contractors, consultants, distributors ',\n",
       "  'and agents, to act in an ethical manner consistent with our CoC and in compliance with our ',\n",
       "  'Supplier Guiding Principles.   ',\n",
       "  ' We received no fines for CoC breaches in 2018. Breaches of the Code, by type, can be ',\n",
       "  'found in our ',\n",
       "  '2018 ',\n",
       "  'Integrated Report',\n",
       "  '.  Following the launch of the CoC in each country, employees were provided with easy access ',\n",
       "  'to the CoC through our internal and external websites. We also included the updated CoC in ',\n",
       "  'our new Code of Conduct training, and where appropriate, a hard copy of our CoC was ',\n",
       "  'provided. ',\n",
       "  ' All employees are required to complete the CoC training, including as part of the induction ',\n",
       "  'process for new employees. This was assigned to 16,000 employees in 2018, and in 2019 ',\n",
       "  'the training will be assigned to an additional 7,665 employees.  Training on specific topics ',\n",
       "  'related to their roles is also provided where needed. All people managers have access to a ',\n",
       "  ''],\n",
       " 'Supplier Guiding Principles (SGPs)': ['Our SGPs are aligned with those of the Coca-Cola system.  These set out the minimum ',\n",
       "  'requirements we expect of our suppliers in areas such as workplace policies and practices, ',\n",
       "  'health and safety, human rights, environmental protection and business integrity. These ',\n",
       "  'SGPs reflect our commitment to respect human rights across our business system and ',\n",
       "  'global supply chain. We work with suppliers to build SGPs into all new contracts and into ',\n",
       "  'multi-year contracts as they renew. In addition, we have amended our standard supplier ',\n",
       "  'contracts to include specific anti-slavery obligations on suppliers, including the express ',\n",
       "  'undertaking that neither the supplier nor any other person in its supply chain uses (or has ',\n",
       "  'attempted to use) trafficked, bonded, child or forced labour. Any breach of this undertaking ',\n",
       "  'enables CCEP to immediately terminate the supply agreement. All procurement managers ',\n",
       "  'working directly with suppliers are provided with training (including on our SGPs) when they ',\n",
       "  'begin their roles, and this information is refreshed on a regular basis. ',\n",
       "  '   ',\n",
       "  'Sustainable Agriculture Guiding Principles (SAGPs) ',\n",
       "  'Developed in partnership with The Coca-Cola Company, our SAGPs cover the Coca-Cola ',\n",
       "  'systemÕs key agricultural ingredients, and define the standards we expect our agricultural ',\n",
       "  'ingredient suppliers to adhere to in terms of human and workplace rights Ð including ',\n",
       "  'prohibitions on modern slavery and child labour, the environment, and management ',\n",
       "  'systems.  We apply these common SAGPs to the key agricultural ingredients that we ',\n",
       "  'purchase Ð this includes beet and cane sugar, pulp and paper, orange, apple, and lemon ',\n",
       "  'juices, as well as tea and coffee. Procurement managers working directly with agricultural ',\n",
       "  'ingredient suppliers are provided with training on our SAGPs when they begin their roles, ',\n",
       "  'and this information is refreshed on a regular basis. ',\n",
       "  '  Audit processes ',\n",
       "  'We expect our suppliers to develop and implement appropriate internal business processes ',\n",
       "  'to ensure compliance with the SGPs. As part of the Coca-Cola system, we have relied on ',\n",
       "  'independent audits commissioned by The Coca-Cola Company to monitor supplier ',\n",
       "  'compliance with the SGPs. The assessments generally include confidential interviews with ',\n",
       "  'employees and on-site contract workers.  These audits include checks that suppliers are not ',\n",
       "  'using child labour, forced labour, or any form of modern slavery, amongst the other covered ',\n",
       "  'areas of our SGPs. In 2018, 95% of our packaging and ingredients suppliers were covered ',\n",
       "  'by SGP audits. ',\n",
       "  ' ']}"
      ]
     },
     "execution_count": 526,
     "metadata": {},
     "output_type": "execute_result"
    }
   ],
   "source": [
    "segments"
   ]
  },
  {
   "cell_type": "code",
   "execution_count": 527,
   "metadata": {},
   "outputs": [
    {
     "data": {
      "text/plain": [
       "dict_keys(['Modern Slavery Statement 2018', 'Introduction', 'We have a zero-tolerance approach to Modern', 'Our business', 'Child labour', 'Forced labour', 'Freedom of association and collective bargaining', 'Abuse of labour', 'Discrimination', 'Wages and benefits', 'Work hours and overtime', 'Health and safety', 'Environment', 'Demonstration of compliance', 'Eliminate discrimination', 'Work hours and wages', 'Safe and healthy workplace', 'Community and traditional rights', '$Policies', 'Human Rights Policy', 'Code of Conduct (CoC)', 'Supplier Guiding Principles (SGPs)'])"
      ]
     },
     "execution_count": 527,
     "metadata": {},
     "output_type": "execute_result"
    }
   ],
   "source": [
    "segments.keys()"
   ]
  },
  {
   "cell_type": "code",
   "execution_count": null,
   "metadata": {},
   "outputs": [],
   "source": []
  }
 ],
 "metadata": {
  "kernelspec": {
   "display_name": "Python 3",
   "language": "python",
   "name": "python3"
  },
  "language_info": {
   "codemirror_mode": {
    "name": "ipython",
    "version": 3
   },
   "file_extension": ".py",
   "mimetype": "text/x-python",
   "name": "python",
   "nbconvert_exporter": "python",
   "pygments_lexer": "ipython3",
   "version": "3.7.4"
  }
 },
 "nbformat": 4,
 "nbformat_minor": 2
}
